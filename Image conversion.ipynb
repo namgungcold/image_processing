{
 "cells": [
  {
   "cell_type": "markdown",
   "id": "8b23eb3c-d23d-4875-84d1-de5691d4d750",
   "metadata": {
    "id": "8b23eb3c-d23d-4875-84d1-de5691d4d750"
   },
   "source": [
    "# Dataset\n",
    "딥러닝은 크게 데이터 준비, 모델 구축, 모델 학습, 모델 평가로 구성됩니다.<br>\n",
    "이번시간에는 첫 번째 단계인 <U>**`데이터셋` 을 구성하고 학습을 위해 가공하는 과정**</U>에 대해 공부해보도록 하겠습니다.<br>"
   ]
  },
  {
   "cell_type": "markdown",
   "id": "64bcddce-f98a-4b4e-84e9-ac16216f2891",
   "metadata": {
    "id": "64bcddce-f98a-4b4e-84e9-ac16216f2891"
   },
   "source": [
    "## 0. 데이터셋 다운받기\n",
    "\n",
    "**<span style=\"color:red\">※ 이번실습에서는 1번~4번까지의 과정을 수행하지 않으셔도 됩니다. (스마트리드 첨부자료 사용)<br> 향후 과제를 진행하실 때 참고하시기 바랍니다.</span>**\n",
    "\n",
    "### [데이터셋 다운]\n",
    "1. https://www.kaggle.com/jessicali9530/caltech256/version/2 <br>\n",
    "페이지 상단에 있는 `Download(1 GB)`버튼 누르기\n",
    "<img src='https://user-images.githubusercontent.com/46768752/138972510-22507274-7013-49b1-9c3c-0557abce64ee.png' alt='다운로드 버튼' width='500'>\n",
    "\n",
    "2. 로그인 후, 다시 버튼눌러서 데이터셋 다운받기\n",
    "3. 다운받아진 `archive.zip` 파일 압축 풀기\n",
    "4. `256_ObjectCategories` 폴더에 들어가서 200여개의 카테고리와 해당 이미지가 들어있는 것 확인해보기\n",
    "\n",
    "### [colab 사용]\n",
    "5. colab 런타임 유형 변경하기\n",
    "    - 왼쪽 상단에 `런타임` 버튼 누르기 -> `런타임 유형 변경` 버튼 누르기 -> None을 GPU로 바꾸기<br>\n",
    "\n",
    "6. bathtub, bear, beer-mug 카테고리의 이미지 사용하여 진행 <br>\n",
    "   세 폴더에서 마음에 드는 사진 10장씩 골라 colab에 이미지 업로드하기\n",
    "    - 1) colab 왼쪽 bar에서 폴더아이콘 누르기 <br>\n",
    "    - 2) 마우스 우클릭 --> 새 폴더 --> 'data' 라는 폴더 만들기 <br>\n",
    "    - 3) 만들어진 data 폴더에 마우스 갖다놓고 2번과 동일한 방법으로 train 폴더 만들기\n",
    "    - 4) 동일한 방법으로 train 폴더 안에 bathtub, bear, beer-mug 폴더 만들기\n",
    "    - 5) 마음에 드는 사진 10장 골라서 각 클래스 폴더 안에 넣기 <br>\n",
    "    (사진 선택해서 해당 폴더에 드래그 하면 업로드 할 수 있습니다.)\n",
    "    \n",
    "위 과정을 모두 완료 한다면 데이터셋은 다음과 같은 형태로 구성됩니다.\n",
    "\n",
    "<p align=\"center\"><img src='https://user-images.githubusercontent.com/46768752/138975455-2fee8a3a-8a60-4e42-81e0-002911ebf621.png' alt='데이터셋 구성' /></p>\n"
   ]
  },
  {
   "cell_type": "markdown",
   "id": "46cc1c04-f856-4266-9b6e-2577509aab2f",
   "metadata": {
    "id": "46cc1c04-f856-4266-9b6e-2577509aab2f"
   },
   "source": [
    "## 1. 데이터셋 구성하기\n",
    "\n",
    "**데이터셋 구성 과정**은 다음과 같습니다. <br>\n",
    "> 1) 데이터셋이 저장되어 있는 경로를 파악합니다. <br>\n",
    "> 2) 데이터 이름(name)과 클래스(class), 그리고 학습을 위해 클래스(class)를 숫자로 나타낸 타겟(target)을 csv 파일에 저장합니다.\n"
   ]
  },
  {
   "cell_type": "markdown",
   "id": "f8434d7a-9d00-444b-a4df-a52f5a1fc811",
   "metadata": {
    "id": "f8434d7a-9d00-444b-a4df-a52f5a1fc811"
   },
   "source": [
    "- 우선, 필요한 module을 import 해줍니다."
   ]
  },
  {
   "cell_type": "code",
   "execution_count": 1,
   "id": "022e9129-9694-408d-93f8-9d6b63e36773",
   "metadata": {
    "executionInfo": {
     "elapsed": 509,
     "status": "ok",
     "timestamp": 1699518329249,
     "user": {
      "displayName": "남궁찬",
      "userId": "00576124675161077739"
     },
     "user_tz": -540
    },
    "id": "022e9129-9694-408d-93f8-9d6b63e36773",
    "tags": []
   },
   "outputs": [],
   "source": [
    "# 사용할 데이터 준비하기\n",
    "# https://www.kaggle.com/jessicali9530/caltech256/version/2\n",
    "import os\n",
    "from glob import glob\n",
    "\n",
    "import pandas as pd"
   ]
  },
  {
   "cell_type": "code",
   "execution_count": 2,
   "id": "XOUX_Ec3A4hh",
   "metadata": {
    "executionInfo": {
     "elapsed": 7,
     "status": "ok",
     "timestamp": 1699518458783,
     "user": {
      "displayName": "남궁찬",
      "userId": "00576124675161077739"
     },
     "user_tz": -540
    },
    "id": "XOUX_Ec3A4hh",
    "tags": []
   },
   "outputs": [],
   "source": [
    "import numpy as np\n",
    "import torch\n",
    "import torch.nn as nn\n",
    "import torch.optim as optim\n",
    "import torch.nn.init as init\n",
    "import torch.nn.functional as F\n",
    "import torchvision.datasets as dset\n",
    "import torchvision.transforms as transforms\n",
    "from torch.utils.data import DataLoader\n",
    "from torch.autograd import Variable\n",
    "from torchvision.utils import save_image\n",
    "import matplotlib.pyplot as plt\n",
    "import pandas as pd"
   ]
  },
  {
   "cell_type": "markdown",
   "id": "c6edf166-c678-4e8a-bab5-a391659446ab",
   "metadata": {
    "id": "c6edf166-c678-4e8a-bab5-a391659446ab"
   },
   "source": [
    "현재 데이터는 다음과 같은 형태로 file과 directory가 구성되어 있습니다.\n",
    "\n",
    "```\n",
    "./data/train/bathtub/xxx.jpg\n",
    "./data/train/bathtub/xxx.jpg\n",
    "\n",
    "./data/train/bear/xxx.jpg\n",
    "./data/train/bear/xxx.jpg\n",
    "\n",
    "./data/train/beer-mug/xxx.jpg\n",
    "./data/train/beer-mug/xxx.jpg\n",
    "```\n",
    "\n",
    "- 각 클래스(backpack, butterfly, coin)별로 디렉토리가 따로 구성되어 있음을 알 수 있습니다.\n",
    "- `glob`를 통해 파일경로를 리스트로 받아옵니다."
   ]
  },
  {
   "cell_type": "code",
   "execution_count": 3,
   "id": "fa197462-f97b-4205-a92f-126ac094478d",
   "metadata": {
    "id": "fa197462-f97b-4205-a92f-126ac094478d",
    "tags": []
   },
   "outputs": [
    {
     "data": {
      "text/plain": [
       "['./data/train1\\\\face\\\\001_0001.jpg',\n",
       " './data/train1\\\\face\\\\001_0002.jpg',\n",
       " './data/train1\\\\face\\\\001_0003.jpg',\n",
       " './data/train1\\\\face\\\\001_0004.jpg',\n",
       " './data/train1\\\\face\\\\001_0005.jpg',\n",
       " './data/train1\\\\face\\\\001_0006.jpg',\n",
       " './data/train1\\\\face\\\\001_0007.jpg',\n",
       " './data/train1\\\\face\\\\001_0008.jpg',\n",
       " './data/train1\\\\face\\\\001_0009.jpg',\n",
       " './data/train1\\\\face\\\\001_0010.jpg',\n",
       " './data/train1\\\\face\\\\001_0011.jpg',\n",
       " './data/train1\\\\face\\\\001_0012.jpg',\n",
       " './data/train1\\\\face\\\\001_0013.jpg',\n",
       " './data/train1\\\\face\\\\001_0014.jpg',\n",
       " './data/train1\\\\face\\\\001_0015.jpg',\n",
       " './data/train1\\\\face\\\\001_0017.jpg',\n",
       " './data/train1\\\\face\\\\001_0018.jpg',\n",
       " './data/train1\\\\face\\\\001_0019.jpg',\n",
       " './data/train1\\\\face\\\\001_0020.jpg',\n",
       " './data/train1\\\\face\\\\001_0021.jpg',\n",
       " './data/train1\\\\face\\\\001_0022.jpg',\n",
       " './data/train1\\\\face\\\\001_0023.jpg',\n",
       " './data/train1\\\\face\\\\001_0024.jpg',\n",
       " './data/train1\\\\face\\\\001_0025.jpg',\n",
       " './data/train1\\\\face\\\\001_0026.jpg',\n",
       " './data/train1\\\\face\\\\001_0027.jpg',\n",
       " './data/train1\\\\face\\\\001_0028.jpg',\n",
       " './data/train1\\\\face\\\\001_0029.jpg',\n",
       " './data/train1\\\\face\\\\001_0030.jpg',\n",
       " './data/train1\\\\face\\\\001_0031.jpg',\n",
       " './data/train1\\\\face\\\\001_0032.jpg',\n",
       " './data/train1\\\\face\\\\001_0033.jpg',\n",
       " './data/train1\\\\face\\\\001_0034.jpg',\n",
       " './data/train1\\\\face\\\\001_0035.jpg',\n",
       " './data/train1\\\\face\\\\001_0036.jpg',\n",
       " './data/train1\\\\face\\\\001_0037.jpg',\n",
       " './data/train1\\\\face\\\\001_0038.jpg',\n",
       " './data/train1\\\\face\\\\001_0039.jpg',\n",
       " './data/train1\\\\face\\\\001_0040.jpg',\n",
       " './data/train1\\\\face\\\\001_0041.jpg',\n",
       " './data/train1\\\\face\\\\001_0042.jpg',\n",
       " './data/train1\\\\face\\\\001_0043.jpg',\n",
       " './data/train1\\\\face\\\\001_0044.jpg',\n",
       " './data/train1\\\\face\\\\001_0045.jpg',\n",
       " './data/train1\\\\face\\\\001_0046.jpg',\n",
       " './data/train1\\\\face\\\\001_0047.jpg',\n",
       " './data/train1\\\\face\\\\001_0048.jpg',\n",
       " './data/train1\\\\face\\\\001_0049.jpg',\n",
       " './data/train1\\\\face\\\\001_0050.jpg',\n",
       " './data/train1\\\\face\\\\001_0051.jpg',\n",
       " './data/train1\\\\face\\\\001_0052.jpg',\n",
       " './data/train1\\\\face\\\\001_0053.jpg',\n",
       " './data/train1\\\\face\\\\001_0054.jpg',\n",
       " './data/train1\\\\face\\\\001_0055.jpg',\n",
       " './data/train1\\\\face\\\\001_0056.jpg',\n",
       " './data/train1\\\\face\\\\001_0057.jpg',\n",
       " './data/train1\\\\face\\\\001_0058.jpg',\n",
       " './data/train1\\\\face\\\\001_0059.jpg',\n",
       " './data/train1\\\\face\\\\001_0060.jpg',\n",
       " './data/train1\\\\face\\\\001_0061.jpg',\n",
       " './data/train1\\\\face\\\\001_0062.jpg',\n",
       " './data/train1\\\\face\\\\001_0063.jpg',\n",
       " './data/train1\\\\face\\\\001_0064.jpg',\n",
       " './data/train1\\\\face\\\\001_0065.jpg',\n",
       " './data/train1\\\\face\\\\001_0066.jpg',\n",
       " './data/train1\\\\face\\\\001_0067.jpg',\n",
       " './data/train1\\\\face\\\\001_0068.jpg',\n",
       " './data/train1\\\\face\\\\001_0069.jpg',\n",
       " './data/train1\\\\face\\\\001_0070.jpg',\n",
       " './data/train1\\\\face\\\\001_0071.jpg',\n",
       " './data/train1\\\\face\\\\001_0072.jpg',\n",
       " './data/train1\\\\face\\\\001_0073.jpg',\n",
       " './data/train1\\\\face\\\\001_0074.jpg',\n",
       " './data/train1\\\\face\\\\001_0075.jpg',\n",
       " './data/train1\\\\face\\\\001_0076.jpg',\n",
       " './data/train1\\\\face\\\\001_0077.jpg',\n",
       " './data/train1\\\\face\\\\001_0078.jpg',\n",
       " './data/train1\\\\face\\\\001_0079.jpg',\n",
       " './data/train1\\\\face\\\\001_0080.jpg',\n",
       " './data/train1\\\\face\\\\001_0081.jpg',\n",
       " './data/train1\\\\face\\\\001_0082.jpg',\n",
       " './data/train1\\\\face\\\\001_0083.jpg',\n",
       " './data/train1\\\\face\\\\001_0084.jpg',\n",
       " './data/train1\\\\face\\\\001_0085.jpg',\n",
       " './data/train1\\\\face\\\\001_0086.jpg',\n",
       " './data/train1\\\\face\\\\001_0087.jpg',\n",
       " './data/train1\\\\face\\\\001_0088.jpg',\n",
       " './data/train1\\\\face\\\\001_0089.jpg',\n",
       " './data/train1\\\\face\\\\001_0090.jpg',\n",
       " './data/train1\\\\face\\\\001_0091.jpg',\n",
       " './data/train1\\\\face\\\\001_0092.jpg',\n",
       " './data/train1\\\\face\\\\001_0093.jpg',\n",
       " './data/train1\\\\face\\\\001_0094.jpg',\n",
       " './data/train1\\\\face\\\\001_0095.jpg',\n",
       " './data/train1\\\\face\\\\001_0096.jpg',\n",
       " './data/train1\\\\face\\\\001_0097.jpg',\n",
       " './data/train1\\\\face\\\\001_0098.jpg',\n",
       " './data/train1\\\\face\\\\001_0099.jpg',\n",
       " './data/train1\\\\face\\\\001_0100.jpg',\n",
       " './data/train1\\\\face\\\\001_0101.jpg',\n",
       " './data/train1\\\\face\\\\001_0102.jpg',\n",
       " './data/train1\\\\face\\\\001_0103.jpg',\n",
       " './data/train1\\\\face\\\\001_0104.jpg',\n",
       " './data/train1\\\\face\\\\001_0105.jpg',\n",
       " './data/train1\\\\face\\\\001_0106.jpg',\n",
       " './data/train1\\\\face\\\\001_0107.jpg',\n",
       " './data/train1\\\\face\\\\001_0108.jpg',\n",
       " './data/train1\\\\face\\\\001_0109.jpg',\n",
       " './data/train1\\\\face\\\\001_0110.jpg',\n",
       " './data/train1\\\\face\\\\001_0111.jpg',\n",
       " './data/train1\\\\face\\\\001_0112.jpg',\n",
       " './data/train1\\\\face\\\\001_0113.jpg',\n",
       " './data/train1\\\\face\\\\001_0114.jpg',\n",
       " './data/train1\\\\face\\\\001_0115.jpg',\n",
       " './data/train1\\\\face\\\\001_0116.jpg',\n",
       " './data/train1\\\\face\\\\001_0117.jpg',\n",
       " './data/train1\\\\face\\\\001_0118.jpg',\n",
       " './data/train1\\\\face\\\\001_0119.jpg',\n",
       " './data/train1\\\\face\\\\001_0120.jpg',\n",
       " './data/train1\\\\face\\\\001_0121.jpg',\n",
       " './data/train1\\\\face\\\\001_0122.jpg',\n",
       " './data/train1\\\\face\\\\001_0123.jpg',\n",
       " './data/train1\\\\face\\\\001_0124.jpg',\n",
       " './data/train1\\\\face\\\\001_0125.jpg',\n",
       " './data/train1\\\\face\\\\001_0126.jpg',\n",
       " './data/train1\\\\face\\\\001_0127.jpg',\n",
       " './data/train1\\\\face\\\\001_0128.jpg',\n",
       " './data/train1\\\\face\\\\001_0129.jpg',\n",
       " './data/train1\\\\face\\\\001_0130.jpg',\n",
       " './data/train1\\\\face_cha\\\\002_0001.jpg',\n",
       " './data/train1\\\\face_cha\\\\002_0002.jpg',\n",
       " './data/train1\\\\face_cha\\\\002_0003.jpg',\n",
       " './data/train1\\\\face_cha\\\\002_0004.jpg',\n",
       " './data/train1\\\\face_cha\\\\002_0005.jpg',\n",
       " './data/train1\\\\face_cha\\\\002_0006.jpg',\n",
       " './data/train1\\\\face_cha\\\\002_0007.jpg',\n",
       " './data/train1\\\\face_cha\\\\002_0008.jpg',\n",
       " './data/train1\\\\face_cha\\\\002_0009.jpg',\n",
       " './data/train1\\\\face_cha\\\\002_0010.jpg',\n",
       " './data/train1\\\\face_cha\\\\002_0011.jpg',\n",
       " './data/train1\\\\face_cha\\\\002_0012.jpg',\n",
       " './data/train1\\\\face_cha\\\\002_0013.jpg',\n",
       " './data/train1\\\\face_cha\\\\002_0014.jpg',\n",
       " './data/train1\\\\face_cha\\\\002_0015.jpg',\n",
       " './data/train1\\\\face_cha\\\\002_0017.jpg',\n",
       " './data/train1\\\\face_cha\\\\002_0018.jpg',\n",
       " './data/train1\\\\face_cha\\\\002_0019.jpg',\n",
       " './data/train1\\\\face_cha\\\\002_0020.jpg',\n",
       " './data/train1\\\\face_cha\\\\002_0021.jpg',\n",
       " './data/train1\\\\face_cha\\\\002_0022.jpg',\n",
       " './data/train1\\\\face_cha\\\\002_0023.jpg',\n",
       " './data/train1\\\\face_cha\\\\002_0024.jpg',\n",
       " './data/train1\\\\face_cha\\\\002_0025.jpg',\n",
       " './data/train1\\\\face_cha\\\\002_0026.jpg',\n",
       " './data/train1\\\\face_cha\\\\002_0027.jpg',\n",
       " './data/train1\\\\face_cha\\\\002_0028.jpg',\n",
       " './data/train1\\\\face_cha\\\\002_0029.jpg',\n",
       " './data/train1\\\\face_cha\\\\002_0030.jpg',\n",
       " './data/train1\\\\face_cha\\\\002_0031.jpg',\n",
       " './data/train1\\\\face_cha\\\\002_0032.jpg',\n",
       " './data/train1\\\\face_cha\\\\002_0033.jpg',\n",
       " './data/train1\\\\face_cha\\\\002_0034.jpg',\n",
       " './data/train1\\\\face_cha\\\\002_0035.jpg',\n",
       " './data/train1\\\\face_cha\\\\002_0036.jpg',\n",
       " './data/train1\\\\face_cha\\\\002_0037.jpg',\n",
       " './data/train1\\\\face_cha\\\\002_0038.jpg',\n",
       " './data/train1\\\\face_cha\\\\002_0039.jpg',\n",
       " './data/train1\\\\face_cha\\\\002_0040.jpg',\n",
       " './data/train1\\\\face_cha\\\\002_0041.jpg',\n",
       " './data/train1\\\\face_cha\\\\002_0042.jpg',\n",
       " './data/train1\\\\face_cha\\\\002_0043.jpg',\n",
       " './data/train1\\\\face_cha\\\\002_0044.jpg',\n",
       " './data/train1\\\\face_cha\\\\002_0045.jpg',\n",
       " './data/train1\\\\face_cha\\\\002_0046.jpg',\n",
       " './data/train1\\\\face_cha\\\\002_0047.jpg',\n",
       " './data/train1\\\\face_cha\\\\002_0048.jpg',\n",
       " './data/train1\\\\face_cha\\\\002_0049.jpg',\n",
       " './data/train1\\\\face_cha\\\\002_0050.jpg',\n",
       " './data/train1\\\\face_cha\\\\002_0051.jpg',\n",
       " './data/train1\\\\face_cha\\\\002_0052.jpg',\n",
       " './data/train1\\\\face_cha\\\\002_0053.jpg',\n",
       " './data/train1\\\\face_cha\\\\002_0054.jpg',\n",
       " './data/train1\\\\face_cha\\\\002_0055.jpg',\n",
       " './data/train1\\\\face_cha\\\\002_0056.jpg',\n",
       " './data/train1\\\\face_cha\\\\002_0057.jpg',\n",
       " './data/train1\\\\face_cha\\\\002_0058.jpg',\n",
       " './data/train1\\\\face_cha\\\\002_0059.jpg',\n",
       " './data/train1\\\\face_cha\\\\002_0060.jpg',\n",
       " './data/train1\\\\face_cha\\\\002_0061.jpg',\n",
       " './data/train1\\\\face_cha\\\\002_0062.jpg',\n",
       " './data/train1\\\\face_cha\\\\002_0063.jpg',\n",
       " './data/train1\\\\face_cha\\\\002_0064.jpg',\n",
       " './data/train1\\\\face_cha\\\\002_0065.jpg',\n",
       " './data/train1\\\\face_cha\\\\002_0066.jpg',\n",
       " './data/train1\\\\face_cha\\\\002_0067.jpg',\n",
       " './data/train1\\\\face_cha\\\\002_0068.jpg',\n",
       " './data/train1\\\\face_cha\\\\002_0069.jpg',\n",
       " './data/train1\\\\face_cha\\\\002_0070.jpg',\n",
       " './data/train1\\\\face_cha\\\\002_0071.jpg',\n",
       " './data/train1\\\\face_cha\\\\002_0072.jpg',\n",
       " './data/train1\\\\face_cha\\\\002_0073.jpg',\n",
       " './data/train1\\\\face_cha\\\\002_0074.jpg',\n",
       " './data/train1\\\\face_cha\\\\002_0075.jpg',\n",
       " './data/train1\\\\face_cha\\\\002_0076.jpg',\n",
       " './data/train1\\\\face_cha\\\\002_0077.jpg',\n",
       " './data/train1\\\\face_cha\\\\002_0078.jpg',\n",
       " './data/train1\\\\face_cha\\\\002_0079.jpg',\n",
       " './data/train1\\\\face_cha\\\\002_0080.jpg',\n",
       " './data/train1\\\\face_cha\\\\002_0081.jpg',\n",
       " './data/train1\\\\face_cha\\\\002_0082.jpg',\n",
       " './data/train1\\\\face_cha\\\\002_0083.jpg',\n",
       " './data/train1\\\\face_cha\\\\002_0084.jpg',\n",
       " './data/train1\\\\face_cha\\\\002_0085.jpg',\n",
       " './data/train1\\\\face_cha\\\\002_0086.jpg',\n",
       " './data/train1\\\\face_cha\\\\002_0087.jpg',\n",
       " './data/train1\\\\face_cha\\\\002_0088.jpg',\n",
       " './data/train1\\\\face_cha\\\\002_0089.jpg',\n",
       " './data/train1\\\\face_cha\\\\002_0090.jpg',\n",
       " './data/train1\\\\face_cha\\\\002_0091.jpg',\n",
       " './data/train1\\\\face_cha\\\\002_0092.jpg',\n",
       " './data/train1\\\\face_cha\\\\002_0093.jpg',\n",
       " './data/train1\\\\face_cha\\\\002_0094.jpg',\n",
       " './data/train1\\\\face_cha\\\\002_0095.jpg',\n",
       " './data/train1\\\\face_cha\\\\002_0096.jpg',\n",
       " './data/train1\\\\face_cha\\\\002_0097.jpg',\n",
       " './data/train1\\\\face_cha\\\\002_0098.jpg',\n",
       " './data/train1\\\\face_cha\\\\002_0099.jpg',\n",
       " './data/train1\\\\face_cha\\\\002_0100.jpg',\n",
       " './data/train1\\\\face_cha\\\\002_0101.jpg',\n",
       " './data/train1\\\\face_cha\\\\002_0102.jpg',\n",
       " './data/train1\\\\face_cha\\\\002_0103.jpg',\n",
       " './data/train1\\\\face_cha\\\\002_0104.jpg',\n",
       " './data/train1\\\\face_cha\\\\002_0105.jpg',\n",
       " './data/train1\\\\face_cha\\\\002_0106.jpg',\n",
       " './data/train1\\\\face_cha\\\\002_0107.jpg',\n",
       " './data/train1\\\\face_cha\\\\002_0108.jpg',\n",
       " './data/train1\\\\face_cha\\\\002_0109.jpg',\n",
       " './data/train1\\\\face_cha\\\\002_0110.jpg',\n",
       " './data/train1\\\\face_cha\\\\002_0111.jpg',\n",
       " './data/train1\\\\face_cha\\\\002_0112.jpg',\n",
       " './data/train1\\\\face_cha\\\\002_0113.jpg',\n",
       " './data/train1\\\\face_cha\\\\002_0114.jpg',\n",
       " './data/train1\\\\face_cha\\\\002_0115.jpg',\n",
       " './data/train1\\\\face_cha\\\\002_0116.jpg',\n",
       " './data/train1\\\\face_cha\\\\002_0117.jpg',\n",
       " './data/train1\\\\face_cha\\\\002_0118.jpg',\n",
       " './data/train1\\\\face_cha\\\\002_0119.jpg',\n",
       " './data/train1\\\\face_cha\\\\002_0120.jpg',\n",
       " './data/train1\\\\face_cha\\\\002_0121.jpg',\n",
       " './data/train1\\\\face_cha\\\\002_0122.jpg',\n",
       " './data/train1\\\\face_cha\\\\002_0123.jpg',\n",
       " './data/train1\\\\face_cha\\\\002_0124.jpg',\n",
       " './data/train1\\\\face_cha\\\\002_0125.jpg',\n",
       " './data/train1\\\\face_cha\\\\002_0126.jpg',\n",
       " './data/train1\\\\face_cha\\\\002_0127.jpg',\n",
       " './data/train1\\\\face_cha\\\\002_0128.jpg',\n",
       " './data/train1\\\\face_cha\\\\002_0129.jpg',\n",
       " './data/train1\\\\face_cha\\\\002_0130.jpg']"
      ]
     },
     "execution_count": 3,
     "metadata": {},
     "output_type": "execute_result"
    }
   ],
   "source": [
    "file_path = './data/train1/*/*.jpg'\n",
    "\n",
    "file_list = glob(file_path)\n",
    "file_list"
   ]
  },
  {
   "cell_type": "code",
   "execution_count": 4,
   "id": "NzkgcWmyQ_xy",
   "metadata": {
    "colab": {
     "base_uri": "https://localhost:8080/"
    },
    "executionInfo": {
     "elapsed": 2765,
     "status": "ok",
     "timestamp": 1699519786447,
     "user": {
      "displayName": "남궁찬",
      "userId": "00576124675161077739"
     },
     "user_tz": -540
    },
    "id": "NzkgcWmyQ_xy",
    "outputId": "8270a7bd-ad3a-45d3-9c66-37d4b564290d",
    "tags": []
   },
   "outputs": [
    {
     "name": "stdout",
     "output_type": "stream",
     "text": [
      "File: ./data/train1\\face\\001_0001.jpg, Shape: (1171, 937, 3)\n",
      "File: ./data/train1\\face\\001_0002.jpg, Shape: (1189, 980, 3)\n",
      "File: ./data/train1\\face\\001_0003.jpg, Shape: (725, 580, 3)\n",
      "File: ./data/train1\\face\\001_0004.jpg, Shape: (960, 720, 3)\n",
      "File: ./data/train1\\face\\001_0005.jpg, Shape: (750, 600, 3)\n",
      "File: ./data/train1\\face\\001_0006.jpg, Shape: (545, 450, 3)\n",
      "File: ./data/train1\\face\\001_0007.jpg, Shape: (472, 354, 3)\n",
      "File: ./data/train1\\face\\001_0008.jpg, Shape: (531, 413, 3)\n",
      "File: ./data/train1\\face\\001_0009.jpg, Shape: (709, 531, 3)\n",
      "File: ./data/train1\\face\\001_0010.jpg, Shape: (291, 236, 3)\n",
      "File: ./data/train1\\face\\001_0011.jpg, Shape: (295, 236, 3)\n",
      "File: ./data/train1\\face\\001_0012.jpg, Shape: (294, 235, 3)\n",
      "File: ./data/train1\\face\\001_0013.jpg, Shape: (338, 266, 3)\n",
      "File: ./data/train1\\face\\001_0014.jpg, Shape: (1008, 720, 3)\n",
      "File: ./data/train1\\face\\001_0015.jpg, Shape: (969, 720, 3)\n",
      "File: ./data/train1\\face\\001_0017.jpg, Shape: (1061, 849, 3)\n",
      "File: ./data/train1\\face\\001_0018.jpg, Shape: (366, 269, 3)\n",
      "File: ./data/train1\\face\\001_0019.jpg, Shape: (960, 858, 3)\n",
      "File: ./data/train1\\face\\001_0020.jpg, Shape: (1024, 752, 3)\n",
      "File: ./data/train1\\face\\001_0021.jpg, Shape: (1145, 850, 3)\n",
      "File: ./data/train1\\face\\001_0022.jpg, Shape: (303, 236, 3)\n",
      "File: ./data/train1\\face\\001_0023.jpg, Shape: (354, 236, 3)\n",
      "File: ./data/train1\\face\\001_0024.jpg, Shape: (354, 236, 3)\n",
      "File: ./data/train1\\face\\001_0025.jpg, Shape: (349, 236, 3)\n",
      "File: ./data/train1\\face\\001_0026.jpg, Shape: (309, 236, 3)\n",
      "File: ./data/train1\\face\\001_0027.jpg, Shape: (329, 236, 3)\n",
      "File: ./data/train1\\face\\001_0028.jpg, Shape: (419, 236, 3)\n",
      "File: ./data/train1\\face\\001_0029.jpg, Shape: (300, 236, 3)\n",
      "File: ./data/train1\\face\\001_0030.jpg, Shape: (419, 236, 3)\n",
      "File: ./data/train1\\face\\001_0031.jpg, Shape: (295, 236, 3)\n",
      "File: ./data/train1\\face\\001_0032.jpg, Shape: (315, 236, 3)\n",
      "File: ./data/train1\\face\\001_0033.jpg, Shape: (295, 236, 3)\n",
      "File: ./data/train1\\face\\001_0034.jpg, Shape: (314, 236, 3)\n",
      "File: ./data/train1\\face\\001_0035.jpg, Shape: (307, 236, 3)\n",
      "File: ./data/train1\\face\\001_0036.jpg, Shape: (314, 236, 3)\n",
      "File: ./data/train1\\face\\001_0037.jpg, Shape: (314, 236, 3)\n",
      "File: ./data/train1\\face\\001_0038.jpg, Shape: (314, 236, 3)\n",
      "File: ./data/train1\\face\\001_0039.jpg, Shape: (330, 236, 3)\n",
      "File: ./data/train1\\face\\001_0040.jpg, Shape: (247, 235, 3)\n",
      "File: ./data/train1\\face\\001_0041.jpg, Shape: (314, 236, 3)\n",
      "File: ./data/train1\\face\\001_0042.jpg, Shape: (318, 235, 3)\n",
      "File: ./data/train1\\face\\001_0043.jpg, Shape: (328, 235, 3)\n",
      "File: ./data/train1\\face\\001_0044.jpg, Shape: (314, 236, 3)\n",
      "File: ./data/train1\\face\\001_0045.jpg, Shape: (314, 236, 3)\n",
      "File: ./data/train1\\face\\001_0046.jpg, Shape: (314, 235, 3)\n",
      "File: ./data/train1\\face\\001_0047.jpg, Shape: (354, 236, 3)\n",
      "File: ./data/train1\\face\\001_0048.jpg, Shape: (303, 235, 3)\n",
      "File: ./data/train1\\face\\001_0049.jpg, Shape: (314, 236, 3)\n",
      "File: ./data/train1\\face\\001_0050.jpg, Shape: (292, 235, 3)\n",
      "File: ./data/train1\\face\\001_0051.jpg, Shape: (314, 236, 3)\n",
      "File: ./data/train1\\face\\001_0052.jpg, Shape: (355, 236, 3)\n",
      "File: ./data/train1\\face\\001_0053.jpg, Shape: (314, 235, 3)\n",
      "File: ./data/train1\\face\\001_0054.jpg, Shape: (314, 236, 3)\n",
      "File: ./data/train1\\face\\001_0055.jpg, Shape: (283, 236, 3)\n",
      "File: ./data/train1\\face\\001_0056.jpg, Shape: (314, 236, 3)\n",
      "File: ./data/train1\\face\\001_0057.jpg, Shape: (314, 236, 3)\n",
      "File: ./data/train1\\face\\001_0058.jpg, Shape: (283, 236, 3)\n",
      "File: ./data/train1\\face\\001_0059.jpg, Shape: (327, 236, 3)\n",
      "File: ./data/train1\\face\\001_0060.jpg, Shape: (315, 236, 3)\n",
      "File: ./data/train1\\face\\001_0061.jpg, Shape: (315, 236, 3)\n",
      "File: ./data/train1\\face\\001_0062.jpg, Shape: (306, 235, 3)\n",
      "File: ./data/train1\\face\\001_0063.jpg, Shape: (309, 236, 3)\n",
      "File: ./data/train1\\face\\001_0064.jpg, Shape: (462, 236, 3)\n",
      "File: ./data/train1\\face\\001_0065.jpg, Shape: (310, 236, 3)\n",
      "File: ./data/train1\\face\\001_0066.jpg, Shape: (316, 236, 3)\n",
      "File: ./data/train1\\face\\001_0067.jpg, Shape: (327, 236, 3)\n",
      "File: ./data/train1\\face\\001_0068.jpg, Shape: (281, 235, 3)\n",
      "File: ./data/train1\\face\\001_0069.jpg, Shape: (320, 236, 3)\n",
      "File: ./data/train1\\face\\001_0070.jpg, Shape: (276, 236, 3)\n",
      "File: ./data/train1\\face\\001_0071.jpg, Shape: (353, 236, 3)\n",
      "File: ./data/train1\\face\\001_0072.jpg, Shape: (419, 236, 3)\n",
      "File: ./data/train1\\face\\001_0073.jpg, Shape: (265, 235, 3)\n",
      "File: ./data/train1\\face\\001_0074.jpg, Shape: (354, 236, 3)\n",
      "File: ./data/train1\\face\\001_0075.jpg, Shape: (316, 236, 3)\n",
      "File: ./data/train1\\face\\001_0076.jpg, Shape: (354, 235, 3)\n",
      "File: ./data/train1\\face\\001_0077.jpg, Shape: (287, 236, 3)\n",
      "File: ./data/train1\\face\\001_0078.jpg, Shape: (295, 236, 3)\n",
      "File: ./data/train1\\face\\001_0079.jpg, Shape: (294, 235, 3)\n",
      "File: ./data/train1\\face\\001_0080.jpg, Shape: (313, 236, 3)\n",
      "File: ./data/train1\\face\\001_0081.jpg, Shape: (295, 236, 3)\n",
      "File: ./data/train1\\face\\001_0082.jpg, Shape: (274, 236, 3)\n",
      "File: ./data/train1\\face\\001_0083.jpg, Shape: (358, 236, 3)\n",
      "File: ./data/train1\\face\\001_0084.jpg, Shape: (307, 236, 3)\n",
      "File: ./data/train1\\face\\001_0085.jpg, Shape: (295, 236, 3)\n",
      "File: ./data/train1\\face\\001_0086.jpg, Shape: (318, 236, 3)\n",
      "File: ./data/train1\\face\\001_0087.jpg, Shape: (354, 236, 3)\n",
      "File: ./data/train1\\face\\001_0088.jpg, Shape: (311, 235, 3)\n",
      "File: ./data/train1\\face\\001_0089.jpg, Shape: (295, 236, 3)\n",
      "File: ./data/train1\\face\\001_0090.jpg, Shape: (300, 236, 3)\n",
      "File: ./data/train1\\face\\001_0091.jpg, Shape: (315, 235, 3)\n",
      "File: ./data/train1\\face\\001_0092.jpg, Shape: (640, 480, 3)\n",
      "File: ./data/train1\\face\\001_0093.jpg, Shape: (419, 236, 3)\n",
      "File: ./data/train1\\face\\001_0094.jpg, Shape: (314, 236, 3)\n",
      "File: ./data/train1\\face\\001_0095.jpg, Shape: (295, 236, 3)\n",
      "File: ./data/train1\\face\\001_0096.jpg, Shape: (294, 235, 3)\n",
      "File: ./data/train1\\face\\001_0097.jpg, Shape: (317, 235, 3)\n",
      "File: ./data/train1\\face\\001_0098.jpg, Shape: (295, 236, 3)\n",
      "File: ./data/train1\\face\\001_0099.jpg, Shape: (330, 236, 3)\n",
      "File: ./data/train1\\face\\001_0100.jpg, Shape: (314, 236, 3)\n",
      "File: ./data/train1\\face\\001_0101.jpg, Shape: (304, 236, 3)\n",
      "File: ./data/train1\\face\\001_0102.jpg, Shape: (232, 236, 3)\n",
      "File: ./data/train1\\face\\001_0103.jpg, Shape: (304, 236, 3)\n",
      "File: ./data/train1\\face\\001_0104.jpg, Shape: (354, 236, 3)\n",
      "File: ./data/train1\\face\\001_0105.jpg, Shape: (312, 235, 3)\n",
      "File: ./data/train1\\face\\001_0106.jpg, Shape: (335, 236, 3)\n",
      "File: ./data/train1\\face\\001_0107.jpg, Shape: (322, 235, 3)\n",
      "File: ./data/train1\\face\\001_0108.jpg, Shape: (295, 236, 3)\n",
      "File: ./data/train1\\face\\001_0109.jpg, Shape: (419, 236, 3)\n",
      "File: ./data/train1\\face\\001_0110.jpg, Shape: (310, 236, 3)\n",
      "File: ./data/train1\\face\\001_0111.jpg, Shape: (263, 236, 3)\n",
      "File: ./data/train1\\face\\001_0112.jpg, Shape: (287, 236, 3)\n",
      "File: ./data/train1\\face\\001_0113.jpg, Shape: (314, 236, 3)\n",
      "File: ./data/train1\\face\\001_0114.jpg, Shape: (255, 235, 3)\n",
      "File: ./data/train1\\face\\001_0115.jpg, Shape: (299, 236, 3)\n",
      "File: ./data/train1\\face\\001_0116.jpg, Shape: (393, 236, 3)\n",
      "File: ./data/train1\\face\\001_0117.jpg, Shape: (294, 235, 3)\n",
      "File: ./data/train1\\face\\001_0118.jpg, Shape: (312, 235, 3)\n",
      "File: ./data/train1\\face\\001_0119.jpg, Shape: (301, 236, 3)\n",
      "File: ./data/train1\\face\\001_0120.jpg, Shape: (353, 236, 3)\n",
      "File: ./data/train1\\face\\001_0121.jpg, Shape: (316, 235, 3)\n",
      "File: ./data/train1\\face\\001_0122.jpg, Shape: (303, 236, 3)\n",
      "File: ./data/train1\\face\\001_0123.jpg, Shape: (301, 236, 3)\n",
      "File: ./data/train1\\face\\001_0124.jpg, Shape: (314, 236, 3)\n",
      "File: ./data/train1\\face\\001_0125.jpg, Shape: (314, 236, 3)\n",
      "File: ./data/train1\\face\\001_0126.jpg, Shape: (314, 236, 3)\n",
      "File: ./data/train1\\face\\001_0127.jpg, Shape: (468, 375, 3)\n",
      "File: ./data/train1\\face\\001_0128.jpg, Shape: (374, 236, 3)\n",
      "File: ./data/train1\\face\\001_0129.jpg, Shape: (314, 236, 3)\n",
      "File: ./data/train1\\face\\001_0130.jpg, Shape: (314, 236, 3)\n",
      "File: ./data/train1\\face_cha\\002_0001.jpg, Shape: (1024, 814, 3)\n",
      "File: ./data/train1\\face_cha\\002_0002.jpg, Shape: (1024, 844, 3)\n",
      "File: ./data/train1\\face_cha\\002_0003.jpg, Shape: (1024, 814, 3)\n",
      "File: ./data/train1\\face_cha\\002_0004.jpg, Shape: (1024, 768, 3)\n",
      "File: ./data/train1\\face_cha\\002_0005.jpg, Shape: (1024, 819, 3)\n",
      "File: ./data/train1\\face_cha\\002_0006.jpg, Shape: (1024, 846, 3)\n",
      "File: ./data/train1\\face_cha\\002_0007.jpg, Shape: (1024, 771, 3)\n",
      "File: ./data/train1\\face_cha\\002_0008.jpg, Shape: (1024, 799, 3)\n",
      "File: ./data/train1\\face_cha\\002_0009.jpg, Shape: (1024, 764, 3)\n",
      "File: ./data/train1\\face_cha\\002_0010.jpg, Shape: (1024, 830, 3)\n",
      "File: ./data/train1\\face_cha\\002_0011.jpg, Shape: (1024, 819, 3)\n",
      "File: ./data/train1\\face_cha\\002_0012.jpg, Shape: (1024, 824, 3)\n",
      "File: ./data/train1\\face_cha\\002_0013.jpg, Shape: (1024, 806, 3)\n",
      "File: ./data/train1\\face_cha\\002_0014.jpg, Shape: (1024, 731, 3)\n",
      "File: ./data/train1\\face_cha\\002_0015.jpg, Shape: (1024, 757, 3)\n",
      "File: ./data/train1\\face_cha\\002_0017.jpg, Shape: (1024, 822, 3)\n",
      "File: ./data/train1\\face_cha\\002_0018.jpg, Shape: (1024, 747, 3)\n",
      "File: ./data/train1\\face_cha\\002_0019.jpg, Shape: (1024, 921, 3)\n",
      "File: ./data/train1\\face_cha\\002_0020.jpg, Shape: (1024, 752, 3)\n",
      "File: ./data/train1\\face_cha\\002_0021.jpg, Shape: (1024, 763, 3)\n",
      "File: ./data/train1\\face_cha\\002_0022.jpg, Shape: (1024, 798, 3)\n",
      "File: ./data/train1\\face_cha\\002_0023.jpg, Shape: (1024, 677, 3)\n",
      "File: ./data/train1\\face_cha\\002_0024.jpg, Shape: (1024, 677, 3)\n",
      "File: ./data/train1\\face_cha\\002_0025.jpg, Shape: (1024, 692, 3)\n",
      "File: ./data/train1\\face_cha\\002_0026.jpg, Shape: (1024, 782, 3)\n",
      "File: ./data/train1\\face_cha\\002_0027.jpg, Shape: (1024, 735, 3)\n",
      "File: ./data/train1\\face_cha\\002_0028.jpg, Shape: (1024, 577, 3)\n",
      "File: ./data/train1\\face_cha\\002_0029.jpg, Shape: (1024, 806, 3)\n",
      "File: ./data/train1\\face_cha\\002_0030.jpg, Shape: (1024, 819, 3)\n",
      "File: ./data/train1\\face_cha\\002_0031.jpg, Shape: (1024, 819, 3)\n",
      "File: ./data/train1\\face_cha\\002_0032.jpg, Shape: (1024, 767, 3)\n",
      "File: ./data/train1\\face_cha\\002_0033.jpg, Shape: (1024, 819, 3)\n",
      "File: ./data/train1\\face_cha\\002_0034.jpg, Shape: (1024, 770, 3)\n",
      "File: ./data/train1\\face_cha\\002_0035.jpg, Shape: (1024, 787, 3)\n",
      "File: ./data/train1\\face_cha\\002_0036.jpg, Shape: (1024, 770, 3)\n",
      "File: ./data/train1\\face_cha\\002_0037.jpg, Shape: (1024, 770, 3)\n",
      "File: ./data/train1\\face_cha\\002_0038.jpg, Shape: (1024, 770, 3)\n",
      "File: ./data/train1\\face_cha\\002_0039.jpg, Shape: (1024, 726, 3)\n",
      "File: ./data/train1\\face_cha\\002_0040.jpg, Shape: (1024, 974, 3)\n",
      "File: ./data/train1\\face_cha\\002_0041.jpg, Shape: (1024, 770, 3)\n",
      "File: ./data/train1\\face_cha\\002_0042.jpg, Shape: (1024, 762, 3)\n",
      "File: ./data/train1\\face_cha\\002_0043.jpg, Shape: (1024, 752, 3)\n",
      "File: ./data/train1\\face_cha\\002_0044.jpg, Shape: (1024, 770, 3)\n",
      "File: ./data/train1\\face_cha\\002_0045.jpg, Shape: (1024, 770, 3)\n",
      "File: ./data/train1\\face_cha\\002_0046.jpg, Shape: (1024, 771, 3)\n",
      "File: ./data/train1\\face_cha\\002_0047.jpg, Shape: (1024, 677, 3)\n",
      "File: ./data/train1\\face_cha\\002_0048.jpg, Shape: (1024, 794, 3)\n",
      "File: ./data/train1\\face_cha\\002_0049.jpg, Shape: (1024, 770, 3)\n",
      "File: ./data/train1\\face_cha\\002_0050.jpg, Shape: (1024, 827, 3)\n",
      "File: ./data/train1\\face_cha\\002_0051.jpg, Shape: (1024, 770, 3)\n",
      "File: ./data/train1\\face_cha\\002_0052.jpg, Shape: (1024, 681, 3)\n",
      "File: ./data/train1\\face_cha\\002_0053.jpg, Shape: (1024, 771, 3)\n",
      "File: ./data/train1\\face_cha\\002_0054.jpg, Shape: (1024, 771, 3)\n",
      "File: ./data/train1\\face_cha\\002_0055.jpg, Shape: (1024, 771, 3)\n",
      "File: ./data/train1\\face_cha\\002_0056.jpg, Shape: (1024, 770, 3)\n",
      "File: ./data/train1\\face_cha\\002_0057.jpg, Shape: (1024, 770, 3)\n",
      "File: ./data/train1\\face_cha\\002_0058.jpg, Shape: (1024, 854, 3)\n",
      "File: ./data/train1\\face_cha\\002_0059.jpg, Shape: (1024, 733, 3)\n",
      "File: ./data/train1\\face_cha\\002_0060.jpg, Shape: (1024, 767, 3)\n",
      "File: ./data/train1\\face_cha\\002_0061.jpg, Shape: (1024, 767, 3)\n",
      "File: ./data/train1\\face_cha\\002_0062.jpg, Shape: (1024, 789, 3)\n",
      "File: ./data/train1\\face_cha\\002_0063.jpg, Shape: (1024, 782, 3)\n",
      "File: ./data/train1\\face_cha\\002_0064.jpg, Shape: (1024, 641, 3)\n",
      "File: ./data/train1\\face_cha\\002_0065.jpg, Shape: (1024, 780, 3)\n",
      "File: ./data/train1\\face_cha\\002_0066.jpg, Shape: (1024, 765, 3)\n",
      "File: ./data/train1\\face_cha\\002_0067.jpg, Shape: (1024, 733, 3)\n",
      "File: ./data/train1\\face_cha\\002_0068.jpg, Shape: (1024, 856, 3)\n",
      "File: ./data/train1\\face_cha\\002_0069.jpg, Shape: (1024, 755, 3)\n",
      "File: ./data/train1\\face_cha\\002_0070.jpg, Shape: (1024, 876, 3)\n",
      "File: ./data/train1\\face_cha\\002_0071.jpg, Shape: (1024, 685, 3)\n",
      "File: ./data/train1\\face_cha\\002_0072.jpg, Shape: (1024, 577, 3)\n",
      "File: ./data/train1\\face_cha\\002_0073.jpg, Shape: (1024, 908, 3)\n",
      "File: ./data/train1\\face_cha\\002_0074.jpg, Shape: (1024, 677, 3)\n",
      "File: ./data/train1\\face_cha\\002_0075.jpg, Shape: (1024, 765, 3)\n",
      "File: ./data/train1\\face_cha\\002_0076.jpg, Shape: (1024, 680, 3)\n",
      "File: ./data/train1\\face_cha\\002_0077.jpg, Shape: (1024, 842, 3)\n",
      "File: ./data/train1\\face_cha\\002_0078.jpg, Shape: (1024, 819, 3)\n",
      "File: ./data/train1\\face_cha\\002_0079.jpg, Shape: (1024, 824, 3)\n",
      "File: ./data/train1\\face_cha\\002_0080.jpg, Shape: (1024, 772, 3)\n",
      "File: ./data/train1\\face_cha\\002_0081.jpg, Shape: (1024, 819, 3)\n",
      "File: ./data/train1\\face_cha\\002_0082.jpg, Shape: (1024, 882, 3)\n",
      "File: ./data/train1\\face_cha\\002_0083.jpg, Shape: (1024, 675, 3)\n",
      "File: ./data/train1\\face_cha\\002_0084.jpg, Shape: (1024, 787, 3)\n",
      "File: ./data/train1\\face_cha\\002_0085.jpg, Shape: (1024, 819, 3)\n",
      "File: ./data/train1\\face_cha\\002_0086.jpg, Shape: (1024, 760, 3)\n",
      "File: ./data/train1\\face_cha\\002_0087.jpg, Shape: (1024, 677, 3)\n",
      "File: ./data/train1\\face_cha\\002_0088.jpg, Shape: (1024, 774, 3)\n",
      "File: ./data/train1\\face_cha\\002_0089.jpg, Shape: (1024, 819, 3)\n",
      "File: ./data/train1\\face_cha\\002_0090.jpg, Shape: (1024, 806, 3)\n",
      "File: ./data/train1\\face_cha\\002_0091.jpg, Shape: (1024, 824, 3)\n",
      "File: ./data/train1\\face_cha\\002_0092.jpg, Shape: (1024, 768, 3)\n",
      "File: ./data/train1\\face_cha\\002_0093.jpg, Shape: (1024, 577, 3)\n",
      "File: ./data/train1\\face_cha\\002_0094.jpg, Shape: (1024, 770, 3)\n",
      "File: ./data/train1\\face_cha\\002_0095.jpg, Shape: (1024, 819, 3)\n",
      "File: ./data/train1\\face_cha\\002_0096.jpg, Shape: (1024, 824, 3)\n",
      "File: ./data/train1\\face_cha\\002_0097.jpg, Shape: (1024, 759, 3)\n",
      "File: ./data/train1\\face_cha\\002_0098.jpg, Shape: (1024, 819, 3)\n",
      "File: ./data/train1\\face_cha\\002_0099.jpg, Shape: (1024, 726, 3)\n",
      "File: ./data/train1\\face_cha\\002_0100.jpg, Shape: (1024, 770, 3)\n",
      "File: ./data/train1\\face_cha\\002_0101.jpg, Shape: (1024, 795, 3)\n",
      "File: ./data/train1\\face_cha\\002_0102.jpg, Shape: (1015, 1024, 3)\n",
      "File: ./data/train1\\face_cha\\002_0103.jpg, Shape: (1024, 795, 3)\n",
      "File: ./data/train1\\face_cha\\002_0104.jpg, Shape: (1024, 683, 3)\n",
      "File: ./data/train1\\face_cha\\002_0105.jpg, Shape: (1024, 776, 3)\n",
      "File: ./data/train1\\face_cha\\002_0106.jpg, Shape: (1024, 721, 3)\n",
      "File: ./data/train1\\face_cha\\002_0107.jpg, Shape: (1024, 752, 3)\n",
      "File: ./data/train1\\face_cha\\002_0108.jpg, Shape: (1024, 819, 3)\n",
      "File: ./data/train1\\face_cha\\002_0109.jpg, Shape: (1024, 577, 3)\n",
      "File: ./data/train1\\face_cha\\002_0110.jpg, Shape: (1024, 780, 3)\n",
      "File: ./data/train1\\face_cha\\002_0111.jpg, Shape: (1024, 919, 3)\n",
      "File: ./data/train1\\face_cha\\002_0112.jpg, Shape: (1024, 842, 3)\n",
      "File: ./data/train1\\face_cha\\002_0113.jpg, Shape: (1024, 770, 3)\n",
      "File: ./data/train1\\face_cha\\002_0114.jpg, Shape: (1024, 944, 3)\n",
      "File: ./data/train1\\face_cha\\002_0115.jpg, Shape: (1024, 808, 3)\n",
      "File: ./data/train1\\face_cha\\002_0116.jpg, Shape: (1024, 610, 3)\n",
      "File: ./data/train1\\face_cha\\002_0117.jpg, Shape: (1024, 824, 3)\n",
      "File: ./data/train1\\face_cha\\002_0118.jpg, Shape: (1024, 776, 3)\n",
      "File: ./data/train1\\face_cha\\002_0119.jpg, Shape: (1024, 803, 3)\n",
      "File: ./data/train1\\face_cha\\002_0120.jpg, Shape: (1024, 685, 3)\n",
      "File: ./data/train1\\face_cha\\002_0121.jpg, Shape: (1024, 764, 3)\n",
      "File: ./data/train1\\face_cha\\002_0122.jpg, Shape: (1024, 798, 3)\n",
      "File: ./data/train1\\face_cha\\002_0123.jpg, Shape: (1024, 803, 3)\n",
      "File: ./data/train1\\face_cha\\002_0124.jpg, Shape: (1024, 770, 3)\n",
      "File: ./data/train1\\face_cha\\002_0125.jpg, Shape: (1024, 770, 3)\n",
      "File: ./data/train1\\face_cha\\002_0126.jpg, Shape: (1024, 770, 3)\n",
      "File: ./data/train1\\face_cha\\002_0127.jpg, Shape: (1024, 821, 3)\n",
      "File: ./data/train1\\face_cha\\002_0128.jpg, Shape: (1024, 646, 3)\n",
      "File: ./data/train1\\face_cha\\002_0129.jpg, Shape: (1024, 770, 3)\n",
      "File: ./data/train1\\face_cha\\002_0130.jpg, Shape: (1024, 770, 3)\n"
     ]
    }
   ],
   "source": [
    "import cv2\n",
    "import glob\n",
    "\n",
    "file_path = './data/train1/*/*.jpg'\n",
    "file_list = glob.glob(file_path)\n",
    "\n",
    "for file in file_list:\n",
    "    image = cv2.imread(file)\n",
    "    shape = image.shape\n",
    "    print(f\"File: {file}, Shape: {shape}\")"
   ]
  },
  {
   "cell_type": "markdown",
   "id": "c745ed22-1901-41e2-96b4-d454a012c9af",
   "metadata": {
    "id": "c745ed22-1901-41e2-96b4-d454a012c9af"
   },
   "source": [
    "- 해당 클래스를 학습에서 사용하기 위해 bathtub는 0으로, bear는 1로, 마지막으로 beer-mug는 3으로 설정하여 `target`이라는 항목에 저장합니다.\n",
    "- 데이터 이름과 클래스, 타겟을 `pd.DataFrame`을 통해 dataframe으로 구성한 후 `csv`파일로 만들어줍니다."
   ]
  },
  {
   "cell_type": "code",
   "execution_count": 5,
   "id": "e393ec60-05fa-4034-b2a8-ba898ccf1072",
   "metadata": {
    "id": "e393ec60-05fa-4034-b2a8-ba898ccf1072",
    "tags": []
   },
   "outputs": [
    {
     "name": "stdout",
     "output_type": "stream",
     "text": [
      "['./data/train1', 'face', '001_0001.jpg']\n",
      "['./data/train1', 'face', '001_0002.jpg']\n",
      "['./data/train1', 'face', '001_0003.jpg']\n",
      "['./data/train1', 'face', '001_0004.jpg']\n",
      "['./data/train1', 'face', '001_0005.jpg']\n",
      "['./data/train1', 'face', '001_0006.jpg']\n",
      "['./data/train1', 'face', '001_0007.jpg']\n",
      "['./data/train1', 'face', '001_0008.jpg']\n",
      "['./data/train1', 'face', '001_0009.jpg']\n",
      "['./data/train1', 'face', '001_0010.jpg']\n",
      "['./data/train1', 'face', '001_0011.jpg']\n",
      "['./data/train1', 'face', '001_0012.jpg']\n",
      "['./data/train1', 'face', '001_0013.jpg']\n",
      "['./data/train1', 'face', '001_0014.jpg']\n",
      "['./data/train1', 'face', '001_0015.jpg']\n",
      "['./data/train1', 'face', '001_0017.jpg']\n",
      "['./data/train1', 'face', '001_0018.jpg']\n",
      "['./data/train1', 'face', '001_0019.jpg']\n",
      "['./data/train1', 'face', '001_0020.jpg']\n",
      "['./data/train1', 'face', '001_0021.jpg']\n",
      "['./data/train1', 'face', '001_0022.jpg']\n",
      "['./data/train1', 'face', '001_0023.jpg']\n",
      "['./data/train1', 'face', '001_0024.jpg']\n",
      "['./data/train1', 'face', '001_0025.jpg']\n",
      "['./data/train1', 'face', '001_0026.jpg']\n",
      "['./data/train1', 'face', '001_0027.jpg']\n",
      "['./data/train1', 'face', '001_0028.jpg']\n",
      "['./data/train1', 'face', '001_0029.jpg']\n",
      "['./data/train1', 'face', '001_0030.jpg']\n",
      "['./data/train1', 'face', '001_0031.jpg']\n",
      "['./data/train1', 'face', '001_0032.jpg']\n",
      "['./data/train1', 'face', '001_0033.jpg']\n",
      "['./data/train1', 'face', '001_0034.jpg']\n",
      "['./data/train1', 'face', '001_0035.jpg']\n",
      "['./data/train1', 'face', '001_0036.jpg']\n",
      "['./data/train1', 'face', '001_0037.jpg']\n",
      "['./data/train1', 'face', '001_0038.jpg']\n",
      "['./data/train1', 'face', '001_0039.jpg']\n",
      "['./data/train1', 'face', '001_0040.jpg']\n",
      "['./data/train1', 'face', '001_0041.jpg']\n",
      "['./data/train1', 'face', '001_0042.jpg']\n",
      "['./data/train1', 'face', '001_0043.jpg']\n",
      "['./data/train1', 'face', '001_0044.jpg']\n",
      "['./data/train1', 'face', '001_0045.jpg']\n",
      "['./data/train1', 'face', '001_0046.jpg']\n",
      "['./data/train1', 'face', '001_0047.jpg']\n",
      "['./data/train1', 'face', '001_0048.jpg']\n",
      "['./data/train1', 'face', '001_0049.jpg']\n",
      "['./data/train1', 'face', '001_0050.jpg']\n",
      "['./data/train1', 'face', '001_0051.jpg']\n",
      "['./data/train1', 'face', '001_0052.jpg']\n",
      "['./data/train1', 'face', '001_0053.jpg']\n",
      "['./data/train1', 'face', '001_0054.jpg']\n",
      "['./data/train1', 'face', '001_0055.jpg']\n",
      "['./data/train1', 'face', '001_0056.jpg']\n",
      "['./data/train1', 'face', '001_0057.jpg']\n",
      "['./data/train1', 'face', '001_0058.jpg']\n",
      "['./data/train1', 'face', '001_0059.jpg']\n",
      "['./data/train1', 'face', '001_0060.jpg']\n",
      "['./data/train1', 'face', '001_0061.jpg']\n",
      "['./data/train1', 'face', '001_0062.jpg']\n",
      "['./data/train1', 'face', '001_0063.jpg']\n",
      "['./data/train1', 'face', '001_0064.jpg']\n",
      "['./data/train1', 'face', '001_0065.jpg']\n",
      "['./data/train1', 'face', '001_0066.jpg']\n",
      "['./data/train1', 'face', '001_0067.jpg']\n",
      "['./data/train1', 'face', '001_0068.jpg']\n",
      "['./data/train1', 'face', '001_0069.jpg']\n",
      "['./data/train1', 'face', '001_0070.jpg']\n",
      "['./data/train1', 'face', '001_0071.jpg']\n",
      "['./data/train1', 'face', '001_0072.jpg']\n",
      "['./data/train1', 'face', '001_0073.jpg']\n",
      "['./data/train1', 'face', '001_0074.jpg']\n",
      "['./data/train1', 'face', '001_0075.jpg']\n",
      "['./data/train1', 'face', '001_0076.jpg']\n",
      "['./data/train1', 'face', '001_0077.jpg']\n",
      "['./data/train1', 'face', '001_0078.jpg']\n",
      "['./data/train1', 'face', '001_0079.jpg']\n",
      "['./data/train1', 'face', '001_0080.jpg']\n",
      "['./data/train1', 'face', '001_0081.jpg']\n",
      "['./data/train1', 'face', '001_0082.jpg']\n",
      "['./data/train1', 'face', '001_0083.jpg']\n",
      "['./data/train1', 'face', '001_0084.jpg']\n",
      "['./data/train1', 'face', '001_0085.jpg']\n",
      "['./data/train1', 'face', '001_0086.jpg']\n",
      "['./data/train1', 'face', '001_0087.jpg']\n",
      "['./data/train1', 'face', '001_0088.jpg']\n",
      "['./data/train1', 'face', '001_0089.jpg']\n",
      "['./data/train1', 'face', '001_0090.jpg']\n",
      "['./data/train1', 'face', '001_0091.jpg']\n",
      "['./data/train1', 'face', '001_0092.jpg']\n",
      "['./data/train1', 'face', '001_0093.jpg']\n",
      "['./data/train1', 'face', '001_0094.jpg']\n",
      "['./data/train1', 'face', '001_0095.jpg']\n",
      "['./data/train1', 'face', '001_0096.jpg']\n",
      "['./data/train1', 'face', '001_0097.jpg']\n",
      "['./data/train1', 'face', '001_0098.jpg']\n",
      "['./data/train1', 'face', '001_0099.jpg']\n",
      "['./data/train1', 'face', '001_0100.jpg']\n",
      "['./data/train1', 'face', '001_0101.jpg']\n",
      "['./data/train1', 'face', '001_0102.jpg']\n",
      "['./data/train1', 'face', '001_0103.jpg']\n",
      "['./data/train1', 'face', '001_0104.jpg']\n",
      "['./data/train1', 'face', '001_0105.jpg']\n",
      "['./data/train1', 'face', '001_0106.jpg']\n",
      "['./data/train1', 'face', '001_0107.jpg']\n",
      "['./data/train1', 'face', '001_0108.jpg']\n",
      "['./data/train1', 'face', '001_0109.jpg']\n",
      "['./data/train1', 'face', '001_0110.jpg']\n",
      "['./data/train1', 'face', '001_0111.jpg']\n",
      "['./data/train1', 'face', '001_0112.jpg']\n",
      "['./data/train1', 'face', '001_0113.jpg']\n",
      "['./data/train1', 'face', '001_0114.jpg']\n",
      "['./data/train1', 'face', '001_0115.jpg']\n",
      "['./data/train1', 'face', '001_0116.jpg']\n",
      "['./data/train1', 'face', '001_0117.jpg']\n",
      "['./data/train1', 'face', '001_0118.jpg']\n",
      "['./data/train1', 'face', '001_0119.jpg']\n",
      "['./data/train1', 'face', '001_0120.jpg']\n",
      "['./data/train1', 'face', '001_0121.jpg']\n",
      "['./data/train1', 'face', '001_0122.jpg']\n",
      "['./data/train1', 'face', '001_0123.jpg']\n",
      "['./data/train1', 'face', '001_0124.jpg']\n",
      "['./data/train1', 'face', '001_0125.jpg']\n",
      "['./data/train1', 'face', '001_0126.jpg']\n",
      "['./data/train1', 'face', '001_0127.jpg']\n",
      "['./data/train1', 'face', '001_0128.jpg']\n",
      "['./data/train1', 'face', '001_0129.jpg']\n",
      "['./data/train1', 'face', '001_0130.jpg']\n",
      "['./data/train1', 'face_cha', '002_0001.jpg']\n",
      "['./data/train1', 'face_cha', '002_0002.jpg']\n",
      "['./data/train1', 'face_cha', '002_0003.jpg']\n",
      "['./data/train1', 'face_cha', '002_0004.jpg']\n",
      "['./data/train1', 'face_cha', '002_0005.jpg']\n",
      "['./data/train1', 'face_cha', '002_0006.jpg']\n",
      "['./data/train1', 'face_cha', '002_0007.jpg']\n",
      "['./data/train1', 'face_cha', '002_0008.jpg']\n",
      "['./data/train1', 'face_cha', '002_0009.jpg']\n",
      "['./data/train1', 'face_cha', '002_0010.jpg']\n",
      "['./data/train1', 'face_cha', '002_0011.jpg']\n",
      "['./data/train1', 'face_cha', '002_0012.jpg']\n",
      "['./data/train1', 'face_cha', '002_0013.jpg']\n",
      "['./data/train1', 'face_cha', '002_0014.jpg']\n",
      "['./data/train1', 'face_cha', '002_0015.jpg']\n",
      "['./data/train1', 'face_cha', '002_0017.jpg']\n",
      "['./data/train1', 'face_cha', '002_0018.jpg']\n",
      "['./data/train1', 'face_cha', '002_0019.jpg']\n",
      "['./data/train1', 'face_cha', '002_0020.jpg']\n",
      "['./data/train1', 'face_cha', '002_0021.jpg']\n",
      "['./data/train1', 'face_cha', '002_0022.jpg']\n",
      "['./data/train1', 'face_cha', '002_0023.jpg']\n",
      "['./data/train1', 'face_cha', '002_0024.jpg']\n",
      "['./data/train1', 'face_cha', '002_0025.jpg']\n",
      "['./data/train1', 'face_cha', '002_0026.jpg']\n",
      "['./data/train1', 'face_cha', '002_0027.jpg']\n",
      "['./data/train1', 'face_cha', '002_0028.jpg']\n",
      "['./data/train1', 'face_cha', '002_0029.jpg']\n",
      "['./data/train1', 'face_cha', '002_0030.jpg']\n",
      "['./data/train1', 'face_cha', '002_0031.jpg']\n",
      "['./data/train1', 'face_cha', '002_0032.jpg']\n",
      "['./data/train1', 'face_cha', '002_0033.jpg']\n",
      "['./data/train1', 'face_cha', '002_0034.jpg']\n",
      "['./data/train1', 'face_cha', '002_0035.jpg']\n",
      "['./data/train1', 'face_cha', '002_0036.jpg']\n",
      "['./data/train1', 'face_cha', '002_0037.jpg']\n",
      "['./data/train1', 'face_cha', '002_0038.jpg']\n",
      "['./data/train1', 'face_cha', '002_0039.jpg']\n",
      "['./data/train1', 'face_cha', '002_0040.jpg']\n",
      "['./data/train1', 'face_cha', '002_0041.jpg']\n",
      "['./data/train1', 'face_cha', '002_0042.jpg']\n",
      "['./data/train1', 'face_cha', '002_0043.jpg']\n",
      "['./data/train1', 'face_cha', '002_0044.jpg']\n",
      "['./data/train1', 'face_cha', '002_0045.jpg']\n",
      "['./data/train1', 'face_cha', '002_0046.jpg']\n",
      "['./data/train1', 'face_cha', '002_0047.jpg']\n",
      "['./data/train1', 'face_cha', '002_0048.jpg']\n",
      "['./data/train1', 'face_cha', '002_0049.jpg']\n",
      "['./data/train1', 'face_cha', '002_0050.jpg']\n",
      "['./data/train1', 'face_cha', '002_0051.jpg']\n",
      "['./data/train1', 'face_cha', '002_0052.jpg']\n",
      "['./data/train1', 'face_cha', '002_0053.jpg']\n",
      "['./data/train1', 'face_cha', '002_0054.jpg']\n",
      "['./data/train1', 'face_cha', '002_0055.jpg']\n",
      "['./data/train1', 'face_cha', '002_0056.jpg']\n",
      "['./data/train1', 'face_cha', '002_0057.jpg']\n",
      "['./data/train1', 'face_cha', '002_0058.jpg']\n",
      "['./data/train1', 'face_cha', '002_0059.jpg']\n",
      "['./data/train1', 'face_cha', '002_0060.jpg']\n",
      "['./data/train1', 'face_cha', '002_0061.jpg']\n",
      "['./data/train1', 'face_cha', '002_0062.jpg']\n",
      "['./data/train1', 'face_cha', '002_0063.jpg']\n",
      "['./data/train1', 'face_cha', '002_0064.jpg']\n",
      "['./data/train1', 'face_cha', '002_0065.jpg']\n",
      "['./data/train1', 'face_cha', '002_0066.jpg']\n",
      "['./data/train1', 'face_cha', '002_0067.jpg']\n",
      "['./data/train1', 'face_cha', '002_0068.jpg']\n",
      "['./data/train1', 'face_cha', '002_0069.jpg']\n",
      "['./data/train1', 'face_cha', '002_0070.jpg']\n",
      "['./data/train1', 'face_cha', '002_0071.jpg']\n",
      "['./data/train1', 'face_cha', '002_0072.jpg']\n",
      "['./data/train1', 'face_cha', '002_0073.jpg']\n",
      "['./data/train1', 'face_cha', '002_0074.jpg']\n",
      "['./data/train1', 'face_cha', '002_0075.jpg']\n",
      "['./data/train1', 'face_cha', '002_0076.jpg']\n",
      "['./data/train1', 'face_cha', '002_0077.jpg']\n",
      "['./data/train1', 'face_cha', '002_0078.jpg']\n",
      "['./data/train1', 'face_cha', '002_0079.jpg']\n",
      "['./data/train1', 'face_cha', '002_0080.jpg']\n",
      "['./data/train1', 'face_cha', '002_0081.jpg']\n",
      "['./data/train1', 'face_cha', '002_0082.jpg']\n",
      "['./data/train1', 'face_cha', '002_0083.jpg']\n",
      "['./data/train1', 'face_cha', '002_0084.jpg']\n",
      "['./data/train1', 'face_cha', '002_0085.jpg']\n",
      "['./data/train1', 'face_cha', '002_0086.jpg']\n",
      "['./data/train1', 'face_cha', '002_0087.jpg']\n",
      "['./data/train1', 'face_cha', '002_0088.jpg']\n",
      "['./data/train1', 'face_cha', '002_0089.jpg']\n",
      "['./data/train1', 'face_cha', '002_0090.jpg']\n",
      "['./data/train1', 'face_cha', '002_0091.jpg']\n",
      "['./data/train1', 'face_cha', '002_0092.jpg']\n",
      "['./data/train1', 'face_cha', '002_0093.jpg']\n",
      "['./data/train1', 'face_cha', '002_0094.jpg']\n",
      "['./data/train1', 'face_cha', '002_0095.jpg']\n",
      "['./data/train1', 'face_cha', '002_0096.jpg']\n",
      "['./data/train1', 'face_cha', '002_0097.jpg']\n",
      "['./data/train1', 'face_cha', '002_0098.jpg']\n",
      "['./data/train1', 'face_cha', '002_0099.jpg']\n",
      "['./data/train1', 'face_cha', '002_0100.jpg']\n",
      "['./data/train1', 'face_cha', '002_0101.jpg']\n",
      "['./data/train1', 'face_cha', '002_0102.jpg']\n",
      "['./data/train1', 'face_cha', '002_0103.jpg']\n",
      "['./data/train1', 'face_cha', '002_0104.jpg']\n",
      "['./data/train1', 'face_cha', '002_0105.jpg']\n",
      "['./data/train1', 'face_cha', '002_0106.jpg']\n",
      "['./data/train1', 'face_cha', '002_0107.jpg']\n",
      "['./data/train1', 'face_cha', '002_0108.jpg']\n",
      "['./data/train1', 'face_cha', '002_0109.jpg']\n",
      "['./data/train1', 'face_cha', '002_0110.jpg']\n",
      "['./data/train1', 'face_cha', '002_0111.jpg']\n",
      "['./data/train1', 'face_cha', '002_0112.jpg']\n",
      "['./data/train1', 'face_cha', '002_0113.jpg']\n",
      "['./data/train1', 'face_cha', '002_0114.jpg']\n",
      "['./data/train1', 'face_cha', '002_0115.jpg']\n",
      "['./data/train1', 'face_cha', '002_0116.jpg']\n",
      "['./data/train1', 'face_cha', '002_0117.jpg']\n",
      "['./data/train1', 'face_cha', '002_0118.jpg']\n",
      "['./data/train1', 'face_cha', '002_0119.jpg']\n",
      "['./data/train1', 'face_cha', '002_0120.jpg']\n",
      "['./data/train1', 'face_cha', '002_0121.jpg']\n",
      "['./data/train1', 'face_cha', '002_0122.jpg']\n",
      "['./data/train1', 'face_cha', '002_0123.jpg']\n",
      "['./data/train1', 'face_cha', '002_0124.jpg']\n",
      "['./data/train1', 'face_cha', '002_0125.jpg']\n",
      "['./data/train1', 'face_cha', '002_0126.jpg']\n",
      "['./data/train1', 'face_cha', '002_0127.jpg']\n",
      "['./data/train1', 'face_cha', '002_0128.jpg']\n",
      "['./data/train1', 'face_cha', '002_0129.jpg']\n",
      "['./data/train1', 'face_cha', '002_0130.jpg']\n",
      "\n",
      "<data frame>\n",
      "        image_name     class  target                            file_path\n",
      "0    001_0001.jpg      face       0      ./data/train1\\face\\001_0001.jpg\n",
      "1    001_0002.jpg      face       0      ./data/train1\\face\\001_0002.jpg\n",
      "2    001_0003.jpg      face       0      ./data/train1\\face\\001_0003.jpg\n",
      "3    001_0004.jpg      face       0      ./data/train1\\face\\001_0004.jpg\n",
      "4    001_0005.jpg      face       0      ./data/train1\\face\\001_0005.jpg\n",
      "..            ...       ...     ...                                  ...\n",
      "253  002_0126.jpg  face_cha       1  ./data/train1\\face_cha\\002_0126.jpg\n",
      "254  002_0127.jpg  face_cha       1  ./data/train1\\face_cha\\002_0127.jpg\n",
      "255  002_0128.jpg  face_cha       1  ./data/train1\\face_cha\\002_0128.jpg\n",
      "256  002_0129.jpg  face_cha       1  ./data/train1\\face_cha\\002_0129.jpg\n",
      "257  002_0130.jpg  face_cha       1  ./data/train1\\face_cha\\002_0130.jpg\n",
      "\n",
      "[258 rows x 4 columns]\n"
     ]
    }
   ],
   "source": [
    "data_dict = {'image_name':[], 'class':[], 'target':[], 'file_path':[]}\n",
    "target_dict = {'face':0, 'face_cha':1}\n",
    "\n",
    "for path in file_list:\n",
    "\n",
    "    data_dict['file_path'].append(path) # file_path 항목에 파일 경로 저장\n",
    "\n",
    "    path_list = path.split(os.path.sep) # os별 파일 경로 구분 문자로 split\n",
    "    print(path_list)\n",
    "\n",
    "    data_dict['image_name'].append(path_list[-1])\n",
    "    data_dict['class'].append(path_list[-2])\n",
    "    data_dict['target'].append(target_dict[path_list[-2]])\n",
    "\n",
    "train_df = pd.DataFrame(data_dict)\n",
    "print('\\n<data frame>\\n', train_df)\n",
    "\n",
    "train_df.to_csv(\"./data/train.csv\", mode='w')"
   ]
  },
  {
   "cell_type": "markdown",
   "id": "09f4c6aa-f21b-4e3f-810c-75d3cdf11ca2",
   "metadata": {
    "id": "09f4c6aa-f21b-4e3f-810c-75d3cdf11ca2"
   },
   "source": [
    "## 2. 데이터셋 불러오기\n",
    "\n",
    "- `1.데이터셋 구성하기` 에서 저장했던 `train.csv` 파일을 통해 데이터셋을 불러옵니다.\n",
    "- `scikit learn의 train_test_split`를 사용하여 데이터셋을 train, validation, test로 나눠줍니다.\n"
   ]
  },
  {
   "cell_type": "code",
   "execution_count": 6,
   "id": "79a69c61-9468-4733-8d05-c7355bb1ad1c",
   "metadata": {
    "executionInfo": {
     "elapsed": 1947,
     "status": "ok",
     "timestamp": 1699518344864,
     "user": {
      "displayName": "남궁찬",
      "userId": "00576124675161077739"
     },
     "user_tz": -540
    },
    "id": "79a69c61-9468-4733-8d05-c7355bb1ad1c",
    "tags": []
   },
   "outputs": [],
   "source": [
    "from sklearn.model_selection import train_test_split\n",
    "\n",
    "def get_df():\n",
    "\n",
    "    # cvs 파일 읽어서 DataFrame으로 저장\n",
    "    df = pd.read_csv('./data/train.csv')\n",
    "\n",
    "    # 데이터셋을 train, val, test로 나누기\n",
    "    df_train, df_test = train_test_split(df, test_size=0.2, random_state=2359)\n",
    "    df_train, df_val = train_test_split(df_train, test_size=0.2, random_state=2359)\n",
    "\n",
    "    return df_train, df_val, df_test"
   ]
  },
  {
   "cell_type": "code",
   "execution_count": 7,
   "id": "2c3eab9e-9cb0-4dac-8266-fe2911a65ed1",
   "metadata": {
    "colab": {
     "base_uri": "https://localhost:8080/"
    },
    "executionInfo": {
     "elapsed": 2,
     "status": "ok",
     "timestamp": 1699518344864,
     "user": {
      "displayName": "남궁찬",
      "userId": "00576124675161077739"
     },
     "user_tz": -540
    },
    "id": "2c3eab9e-9cb0-4dac-8266-fe2911a65ed1",
    "outputId": "4e9fb33e-3b89-4511-ed54-1bd776f306fd",
    "tags": []
   },
   "outputs": [
    {
     "name": "stdout",
     "output_type": "stream",
     "text": [
      "164 42 52\n"
     ]
    }
   ],
   "source": [
    "# 데이터셋 읽어오기\n",
    "df_train, df_val, df_test = get_df()\n",
    "print(len(df_train), len(df_val), len(df_test))"
   ]
  },
  {
   "cell_type": "markdown",
   "id": "7a569b1d-77d8-4ed4-bc9f-f9bc887bc992",
   "metadata": {
    "id": "7a569b1d-77d8-4ed4-bc9f-f9bc887bc992"
   },
   "source": [
    "## 3. 학습시, 데이터셋을 사용할 수 있도록 만들기"
   ]
  },
  {
   "cell_type": "markdown",
   "id": "ce67f0d1-e667-4336-8187-91f1bce6d2ff",
   "metadata": {
    "id": "ce67f0d1-e667-4336-8187-91f1bce6d2ff"
   },
   "source": [
    "### 3-1. Dataset Class\n",
    "- pytorch가 dataset을 어떻게 읽을지 알려주는 class입니다.\n",
    "- `__len__`과 `__getitem__` 부분은 필수적으로 필요한 method입니다.\n",
    "\n",
    "\n",
    "```python\n",
    "class 내가만든_데이터셋(Dataset):\n",
    "    def __init__(self, csv, mode, meta_features, transform=None):\n",
    "        # 데이터셋 초기화\n",
    "    def __len__(self):\n",
    "        # 데이터셋 크기 리턴\n",
    "        return self.csv.shape[0]\n",
    "    def __getitem__(self, index):\n",
    "        # 인덱스에 해당하는 이미지 리턴\n",
    "    return data, torch.tensor(self.csv.iloc[index].target).long()\n",
    "\n",
    "```"
   ]
  },
  {
   "cell_type": "code",
   "execution_count": 8,
   "id": "31d03450-19f8-4c7f-ad70-aebe9a71384f",
   "metadata": {
    "executionInfo": {
     "elapsed": 4320,
     "status": "ok",
     "timestamp": 1699518366560,
     "user": {
      "displayName": "남궁찬",
      "userId": "00576124675161077739"
     },
     "user_tz": -540
    },
    "id": "31d03450-19f8-4c7f-ad70-aebe9a71384f",
    "tags": []
   },
   "outputs": [],
   "source": [
    "import torch\n",
    "from torch.utils.data import Dataset\n",
    "from PIL import Image\n",
    "\n",
    "class Classification_Dataset(Dataset):\n",
    "    def __init__(self, csv, mode, transform=None):\n",
    "        self.csv = csv.reset_index(drop=True)  # random으로 섞인 데이터의 인덱스를 reset 시켜서 다시 부여한다.\n",
    "        self.transform = transform\n",
    "\n",
    "    def __len__(self):\n",
    "        return self.csv.shape[0]  # csv 파일의 행 개수 == 데이터 개수\n",
    "\n",
    "    def __getitem__(self, index):\n",
    "        row = self.csv.iloc[index]                       # 주어진 index에 대한 데이터 뽑아오기\n",
    "        image = Image.open(row.file_path).convert('RGB') # 파일경로로 부터 이미지를 읽고 rgb로 변환하기\n",
    "        target = torch.tensor(self.csv.iloc[index].target).long()\n",
    "\n",
    "        if self.transform:\n",
    "            image = self.transform(image) # 이미지에 transform 적용하기\n",
    "\n",
    "        return image, target  # 이미지와 target return하기"
   ]
  },
  {
   "cell_type": "markdown",
   "id": "681f2b14-f1b7-488d-bca5-cc7b5ab74f89",
   "metadata": {
    "id": "681f2b14-f1b7-488d-bca5-cc7b5ab74f89"
   },
   "source": [
    "- `csv.reset_index(drop=True)` 는 아래 결과를 통해 역할을 알 수 있습니다."
   ]
  },
  {
   "cell_type": "code",
   "execution_count": 9,
   "id": "810a45ae-4ef2-4b06-90d7-ff08b0699b7d",
   "metadata": {
    "colab": {
     "base_uri": "https://localhost:8080/",
     "height": 424
    },
    "id": "810a45ae-4ef2-4b06-90d7-ff08b0699b7d",
    "outputId": "c1ae1144-7cce-4233-ffa7-8034b8d10fbf"
   },
   "outputs": [
    {
     "data": {
      "text/html": [
       "<div>\n",
       "<style scoped>\n",
       "    .dataframe tbody tr th:only-of-type {\n",
       "        vertical-align: middle;\n",
       "    }\n",
       "\n",
       "    .dataframe tbody tr th {\n",
       "        vertical-align: top;\n",
       "    }\n",
       "\n",
       "    .dataframe thead th {\n",
       "        text-align: right;\n",
       "    }\n",
       "</style>\n",
       "<table border=\"1\" class=\"dataframe\">\n",
       "  <thead>\n",
       "    <tr style=\"text-align: right;\">\n",
       "      <th></th>\n",
       "      <th>Unnamed: 0</th>\n",
       "      <th>image_name</th>\n",
       "      <th>class</th>\n",
       "      <th>target</th>\n",
       "      <th>file_path</th>\n",
       "    </tr>\n",
       "  </thead>\n",
       "  <tbody>\n",
       "    <tr>\n",
       "      <th>93</th>\n",
       "      <td>93</td>\n",
       "      <td>002_0094.jpg</td>\n",
       "      <td>character</td>\n",
       "      <td>1</td>\n",
       "      <td>./data/train1\\character\\002_0094.jpg</td>\n",
       "    </tr>\n",
       "    <tr>\n",
       "      <th>36</th>\n",
       "      <td>36</td>\n",
       "      <td>002_0037.jpg</td>\n",
       "      <td>character</td>\n",
       "      <td>1</td>\n",
       "      <td>./data/train1\\character\\002_0037.jpg</td>\n",
       "    </tr>\n",
       "    <tr>\n",
       "      <th>83</th>\n",
       "      <td>83</td>\n",
       "      <td>002_0084.jpg</td>\n",
       "      <td>character</td>\n",
       "      <td>1</td>\n",
       "      <td>./data/train1\\character\\002_0084.jpg</td>\n",
       "    </tr>\n",
       "    <tr>\n",
       "      <th>121</th>\n",
       "      <td>121</td>\n",
       "      <td>002_0122.jpg</td>\n",
       "      <td>character</td>\n",
       "      <td>1</td>\n",
       "      <td>./data/train1\\character\\002_0122.jpg</td>\n",
       "    </tr>\n",
       "    <tr>\n",
       "      <th>168</th>\n",
       "      <td>168</td>\n",
       "      <td>001_0044.jpg</td>\n",
       "      <td>face</td>\n",
       "      <td>0</td>\n",
       "      <td>./data/train1\\face\\001_0044.jpg</td>\n",
       "    </tr>\n",
       "    <tr>\n",
       "      <th>...</th>\n",
       "      <td>...</td>\n",
       "      <td>...</td>\n",
       "      <td>...</td>\n",
       "      <td>...</td>\n",
       "      <td>...</td>\n",
       "    </tr>\n",
       "    <tr>\n",
       "      <th>40</th>\n",
       "      <td>40</td>\n",
       "      <td>002_0041.jpg</td>\n",
       "      <td>character</td>\n",
       "      <td>1</td>\n",
       "      <td>./data/train1\\character\\002_0041.jpg</td>\n",
       "    </tr>\n",
       "    <tr>\n",
       "      <th>71</th>\n",
       "      <td>71</td>\n",
       "      <td>002_0072.jpg</td>\n",
       "      <td>character</td>\n",
       "      <td>1</td>\n",
       "      <td>./data/train1\\character\\002_0072.jpg</td>\n",
       "    </tr>\n",
       "    <tr>\n",
       "      <th>14</th>\n",
       "      <td>14</td>\n",
       "      <td>002_0015.jpg</td>\n",
       "      <td>character</td>\n",
       "      <td>1</td>\n",
       "      <td>./data/train1\\character\\002_0015.jpg</td>\n",
       "    </tr>\n",
       "    <tr>\n",
       "      <th>208</th>\n",
       "      <td>208</td>\n",
       "      <td>001_0084.jpg</td>\n",
       "      <td>face</td>\n",
       "      <td>0</td>\n",
       "      <td>./data/train1\\face\\001_0084.jpg</td>\n",
       "    </tr>\n",
       "    <tr>\n",
       "      <th>242</th>\n",
       "      <td>242</td>\n",
       "      <td>001_0118.jpg</td>\n",
       "      <td>face</td>\n",
       "      <td>0</td>\n",
       "      <td>./data/train1\\face\\001_0118.jpg</td>\n",
       "    </tr>\n",
       "  </tbody>\n",
       "</table>\n",
       "<p>163 rows × 5 columns</p>\n",
       "</div>"
      ],
      "text/plain": [
       "     Unnamed: 0    image_name      class  target  \\\n",
       "93           93  002_0094.jpg  character       1   \n",
       "36           36  002_0037.jpg  character       1   \n",
       "83           83  002_0084.jpg  character       1   \n",
       "121         121  002_0122.jpg  character       1   \n",
       "168         168  001_0044.jpg       face       0   \n",
       "..          ...           ...        ...     ...   \n",
       "40           40  002_0041.jpg  character       1   \n",
       "71           71  002_0072.jpg  character       1   \n",
       "14           14  002_0015.jpg  character       1   \n",
       "208         208  001_0084.jpg       face       0   \n",
       "242         242  001_0118.jpg       face       0   \n",
       "\n",
       "                                file_path  \n",
       "93   ./data/train1\\character\\002_0094.jpg  \n",
       "36   ./data/train1\\character\\002_0037.jpg  \n",
       "83   ./data/train1\\character\\002_0084.jpg  \n",
       "121  ./data/train1\\character\\002_0122.jpg  \n",
       "168       ./data/train1\\face\\001_0044.jpg  \n",
       "..                                    ...  \n",
       "40   ./data/train1\\character\\002_0041.jpg  \n",
       "71   ./data/train1\\character\\002_0072.jpg  \n",
       "14   ./data/train1\\character\\002_0015.jpg  \n",
       "208       ./data/train1\\face\\001_0084.jpg  \n",
       "242       ./data/train1\\face\\001_0118.jpg  \n",
       "\n",
       "[163 rows x 5 columns]"
      ]
     },
     "execution_count": 9,
     "metadata": {},
     "output_type": "execute_result"
    }
   ],
   "source": [
    "df_train"
   ]
  },
  {
   "cell_type": "code",
   "execution_count": 10,
   "id": "4810905a-3ad8-472a-8b47-74287820bf3d",
   "metadata": {
    "colab": {
     "base_uri": "https://localhost:8080/",
     "height": 424
    },
    "id": "4810905a-3ad8-472a-8b47-74287820bf3d",
    "outputId": "1dc781e2-b168-4371-fc57-4cf1670aca34"
   },
   "outputs": [
    {
     "data": {
      "text/html": [
       "<div>\n",
       "<style scoped>\n",
       "    .dataframe tbody tr th:only-of-type {\n",
       "        vertical-align: middle;\n",
       "    }\n",
       "\n",
       "    .dataframe tbody tr th {\n",
       "        vertical-align: top;\n",
       "    }\n",
       "\n",
       "    .dataframe thead th {\n",
       "        text-align: right;\n",
       "    }\n",
       "</style>\n",
       "<table border=\"1\" class=\"dataframe\">\n",
       "  <thead>\n",
       "    <tr style=\"text-align: right;\">\n",
       "      <th></th>\n",
       "      <th>Unnamed: 0</th>\n",
       "      <th>image_name</th>\n",
       "      <th>class</th>\n",
       "      <th>target</th>\n",
       "      <th>file_path</th>\n",
       "    </tr>\n",
       "  </thead>\n",
       "  <tbody>\n",
       "    <tr>\n",
       "      <th>0</th>\n",
       "      <td>93</td>\n",
       "      <td>002_0094.jpg</td>\n",
       "      <td>character</td>\n",
       "      <td>1</td>\n",
       "      <td>./data/train1\\character\\002_0094.jpg</td>\n",
       "    </tr>\n",
       "    <tr>\n",
       "      <th>1</th>\n",
       "      <td>36</td>\n",
       "      <td>002_0037.jpg</td>\n",
       "      <td>character</td>\n",
       "      <td>1</td>\n",
       "      <td>./data/train1\\character\\002_0037.jpg</td>\n",
       "    </tr>\n",
       "    <tr>\n",
       "      <th>2</th>\n",
       "      <td>83</td>\n",
       "      <td>002_0084.jpg</td>\n",
       "      <td>character</td>\n",
       "      <td>1</td>\n",
       "      <td>./data/train1\\character\\002_0084.jpg</td>\n",
       "    </tr>\n",
       "    <tr>\n",
       "      <th>3</th>\n",
       "      <td>121</td>\n",
       "      <td>002_0122.jpg</td>\n",
       "      <td>character</td>\n",
       "      <td>1</td>\n",
       "      <td>./data/train1\\character\\002_0122.jpg</td>\n",
       "    </tr>\n",
       "    <tr>\n",
       "      <th>4</th>\n",
       "      <td>168</td>\n",
       "      <td>001_0044.jpg</td>\n",
       "      <td>face</td>\n",
       "      <td>0</td>\n",
       "      <td>./data/train1\\face\\001_0044.jpg</td>\n",
       "    </tr>\n",
       "    <tr>\n",
       "      <th>...</th>\n",
       "      <td>...</td>\n",
       "      <td>...</td>\n",
       "      <td>...</td>\n",
       "      <td>...</td>\n",
       "      <td>...</td>\n",
       "    </tr>\n",
       "    <tr>\n",
       "      <th>158</th>\n",
       "      <td>40</td>\n",
       "      <td>002_0041.jpg</td>\n",
       "      <td>character</td>\n",
       "      <td>1</td>\n",
       "      <td>./data/train1\\character\\002_0041.jpg</td>\n",
       "    </tr>\n",
       "    <tr>\n",
       "      <th>159</th>\n",
       "      <td>71</td>\n",
       "      <td>002_0072.jpg</td>\n",
       "      <td>character</td>\n",
       "      <td>1</td>\n",
       "      <td>./data/train1\\character\\002_0072.jpg</td>\n",
       "    </tr>\n",
       "    <tr>\n",
       "      <th>160</th>\n",
       "      <td>14</td>\n",
       "      <td>002_0015.jpg</td>\n",
       "      <td>character</td>\n",
       "      <td>1</td>\n",
       "      <td>./data/train1\\character\\002_0015.jpg</td>\n",
       "    </tr>\n",
       "    <tr>\n",
       "      <th>161</th>\n",
       "      <td>208</td>\n",
       "      <td>001_0084.jpg</td>\n",
       "      <td>face</td>\n",
       "      <td>0</td>\n",
       "      <td>./data/train1\\face\\001_0084.jpg</td>\n",
       "    </tr>\n",
       "    <tr>\n",
       "      <th>162</th>\n",
       "      <td>242</td>\n",
       "      <td>001_0118.jpg</td>\n",
       "      <td>face</td>\n",
       "      <td>0</td>\n",
       "      <td>./data/train1\\face\\001_0118.jpg</td>\n",
       "    </tr>\n",
       "  </tbody>\n",
       "</table>\n",
       "<p>163 rows × 5 columns</p>\n",
       "</div>"
      ],
      "text/plain": [
       "     Unnamed: 0    image_name      class  target  \\\n",
       "0            93  002_0094.jpg  character       1   \n",
       "1            36  002_0037.jpg  character       1   \n",
       "2            83  002_0084.jpg  character       1   \n",
       "3           121  002_0122.jpg  character       1   \n",
       "4           168  001_0044.jpg       face       0   \n",
       "..          ...           ...        ...     ...   \n",
       "158          40  002_0041.jpg  character       1   \n",
       "159          71  002_0072.jpg  character       1   \n",
       "160          14  002_0015.jpg  character       1   \n",
       "161         208  001_0084.jpg       face       0   \n",
       "162         242  001_0118.jpg       face       0   \n",
       "\n",
       "                                file_path  \n",
       "0    ./data/train1\\character\\002_0094.jpg  \n",
       "1    ./data/train1\\character\\002_0037.jpg  \n",
       "2    ./data/train1\\character\\002_0084.jpg  \n",
       "3    ./data/train1\\character\\002_0122.jpg  \n",
       "4         ./data/train1\\face\\001_0044.jpg  \n",
       "..                                    ...  \n",
       "158  ./data/train1\\character\\002_0041.jpg  \n",
       "159  ./data/train1\\character\\002_0072.jpg  \n",
       "160  ./data/train1\\character\\002_0015.jpg  \n",
       "161       ./data/train1\\face\\001_0084.jpg  \n",
       "162       ./data/train1\\face\\001_0118.jpg  \n",
       "\n",
       "[163 rows x 5 columns]"
      ]
     },
     "execution_count": 10,
     "metadata": {},
     "output_type": "execute_result"
    }
   ],
   "source": [
    "df_train.reset_index(drop=True)"
   ]
  },
  {
   "cell_type": "markdown",
   "id": "f2b7cd85-3196-4e6e-a72b-7bbc6d43011e",
   "metadata": {
    "id": "f2b7cd85-3196-4e6e-a72b-7bbc6d43011e"
   },
   "source": [
    "- `Classification_Dataset`에서 `__len__`과 `__getitem__`의 결과를 확인해보겠습니다."
   ]
  },
  {
   "cell_type": "code",
   "execution_count": 9,
   "id": "8260e18a-6e19-4ff4-a725-fa42cdcfe710",
   "metadata": {
    "colab": {
     "base_uri": "https://localhost:8080/"
    },
    "executionInfo": {
     "elapsed": 1261,
     "status": "ok",
     "timestamp": 1699518377391,
     "user": {
      "displayName": "남궁찬",
      "userId": "00576124675161077739"
     },
     "user_tz": -540
    },
    "id": "8260e18a-6e19-4ff4-a725-fa42cdcfe710",
    "outputId": "bacacab4-9164-4c72-cf0b-b53c12c3888d"
   },
   "outputs": [
    {
     "name": "stdout",
     "output_type": "stream",
     "text": [
      ">> 데이터 셋 전체 크기, 개수, sample개수 : 164\n",
      ">> i번째 데이터 불러오기 : dataset_train.__getitem__(i)\n",
      ">> 0번째 데이터 불러와지는 형태 : tuple (이미지 픽셀값, target)\n",
      " : (tensor([[[0.2039, 0.2039, 0.2078,  ..., 0.2039, 0.2039, 0.2039],\n",
      "         [0.2039, 0.2039, 0.2078,  ..., 0.2039, 0.2039, 0.2039],\n",
      "         [0.2039, 0.2039, 0.2078,  ..., 0.2078, 0.2078, 0.2078],\n",
      "         ...,\n",
      "         [0.0745, 0.0824, 0.0706,  ..., 0.0235, 0.0078, 0.0000],\n",
      "         [0.0667, 0.0706, 0.0627,  ..., 0.0196, 0.0039, 0.0000],\n",
      "         [0.0667, 0.0706, 0.0627,  ..., 0.0196, 0.0039, 0.0000]],\n",
      "\n",
      "        [[0.3020, 0.3020, 0.3059,  ..., 0.2980, 0.2980, 0.2980],\n",
      "         [0.3020, 0.3020, 0.3059,  ..., 0.2980, 0.2980, 0.2980],\n",
      "         [0.3020, 0.3020, 0.3059,  ..., 0.3020, 0.3020, 0.3020],\n",
      "         ...,\n",
      "         [0.0627, 0.0706, 0.0588,  ..., 0.0118, 0.0039, 0.0000],\n",
      "         [0.0549, 0.0588, 0.0510,  ..., 0.0078, 0.0000, 0.0000],\n",
      "         [0.0549, 0.0588, 0.0510,  ..., 0.0078, 0.0000, 0.0000]],\n",
      "\n",
      "        [[0.4235, 0.4235, 0.4275,  ..., 0.4314, 0.4314, 0.4314],\n",
      "         [0.4235, 0.4235, 0.4275,  ..., 0.4314, 0.4314, 0.4314],\n",
      "         [0.4235, 0.4235, 0.4275,  ..., 0.4353, 0.4353, 0.4353],\n",
      "         ...,\n",
      "         [0.0902, 0.0980, 0.0863,  ..., 0.0392, 0.0275, 0.0196],\n",
      "         [0.0824, 0.0863, 0.0784,  ..., 0.0353, 0.0235, 0.0196],\n",
      "         [0.0824, 0.0863, 0.0784,  ..., 0.0353, 0.0235, 0.0196]]]), tensor(0))\n"
     ]
    }
   ],
   "source": [
    "from torchvision import transforms\n",
    "dataset_train = Classification_Dataset(df_train, 'train', transform=transforms.ToTensor())\n",
    "\n",
    "print(f'>> 데이터 셋 전체 크기, 개수, sample개수 : {dataset_train.__len__()}')\n",
    "print(f'>> i번째 데이터 불러오기 : dataset_train.__getitem__(i)')\n",
    "print(f'>> 0번째 데이터 불러와지는 형태 : tuple (이미지 픽셀값, target)\\n : {dataset_train.__getitem__(0)}')"
   ]
  },
  {
   "cell_type": "markdown",
   "id": "600ea90c-cf74-478f-b502-6a07db95aad2",
   "metadata": {
    "id": "600ea90c-cf74-478f-b502-6a07db95aad2"
   },
   "source": [
    "### 3-2. Transforms & Augmentation\n",
    "#### [Transforms]\n",
    "- 구축한 데이터셋에서 이미지 파일은 서로 크기가 다를 수 있기 때문에, <U>같은 크기</U>로 맞춰주어야 합니다.\n",
    "    - `transforms.Normalize([r채널의 mean, g채널의 mean, b채널의 mean], [r채널의 std, g채널의 std, b채널의 std])` : normalize\n",
    "    - `transforms.Resize()` : 크기 변경\n",
    "    - `transforms.CenterCrop()`, `transforms.RandomResizedCrop()` : 잘라내기\n",
    "\n",
    "- 예시\n",
    "```python\n",
    "transform = transforms.Compose([transforms.Resize(255),\n",
    "                                transforms.CenterCrop(224),\n",
    "                                transforms.ToTensor(),\n",
    "                                transforms.Normalize([0.5, 0.5, 0.5], [0.5, 0.5, 0.5])\n",
    "                               ])\n",
    "```\n",
    "- `transforms.Normalize()`는 이미지의 픽셀값을 정규화하는 과정입니다. <br>\n",
    "본 과정을 수행해야 원활하게 학습이 이루어지게 됩니다.\n",
    "3개의 채널로 구성되어 있는 이미지의 경우 아래와 같이 normalize 됩니다.\n",
    "\n",
    "    - `input[channel] = (input[channel] - mean[channel]) / std[channel]`\n",
    "    - 입력 픽셀값에 mean을 빼주게 되면 픽셀값이 0을 중심으로 두게 변형되고, std를 나누면 픽셀값이 -1과 1 사이로 분포를 이루게 됩니다.\n",
    "    - 채널별 mean, std를 구하는 방법은 아래에 나와있습니다.\n",
    "\n",
    "\n",
    "\n",
    "\n",
    "#### [Augmentation]\n",
    "- 일반적으로 데이터의 양이 많을수록 좋은 성능을 갖기 때문에, 데이터를 random하게 변경하여 새로운 데이터로 사용하여 학습 시 사용하는 <U>데이터의 양을 늘릴</U> 수 있습니다.\n",
    "- 입력 이미지를 랜덤하게 변경함으로써 모델이 풀어야 할 문제(예:이미지 클래스 맞추기)를 더 어렵게 만들어 <U>overfitting을 방지</U>하는 데에도 도움이 됩니다.\n",
    "- https://pytorch.org/vision/stable/transforms.html 에서 더 많은 예시를 보실 수 있습니다.\n",
    "- 예시\n",
    "    - `transforms.RandomRotation` : 랜덤하게 회전하기\n",
    "    - `transforms.RandomHorizontalFlip()` : 랜덤하게 수평으로 뒤집기"
   ]
  },
  {
   "cell_type": "code",
   "execution_count": 10,
   "id": "e9dd94dc-15d4-4b89-bb1e-6f5a55d5cb11",
   "metadata": {
    "colab": {
     "base_uri": "https://localhost:8080/"
    },
    "executionInfo": {
     "elapsed": 4168,
     "status": "ok",
     "timestamp": 1699518388897,
     "user": {
      "displayName": "남궁찬",
      "userId": "00576124675161077739"
     },
     "user_tz": -540
    },
    "id": "e9dd94dc-15d4-4b89-bb1e-6f5a55d5cb11",
    "outputId": "8f40d0b1-59cf-4099-ed2b-234daefcdfa5"
   },
   "outputs": [
    {
     "name": "stdout",
     "output_type": "stream",
     "text": [
      "rgb mean: [0.60065126, 0.5877309, 0.56868696]\n",
      "rgb std: [0.05771285, 0.059666246, 0.058321495]\n"
     ]
    }
   ],
   "source": [
    "# normalize를 위해 rgb 채널의 mean, std 값 구하기\n",
    "\n",
    "import numpy as np\n",
    "\n",
    "dataset_train = Classification_Dataset(df_train, 'train', transform=transforms.ToTensor())\n",
    "\n",
    "# 데이터(shape:torch.Size([3, 381, 343])) rgb에 대한 mean, std 구하기\n",
    "rgb_mean = [np.mean(x.numpy(), axis=(1,2)) for x,_ in dataset_train]\n",
    "rgb_std = [np.std(x.numpy(), axis=(1,2)) for x,_ in dataset_train]\n",
    "\n",
    "\n",
    "# 각 데이터 채널별로 mean, std 나타내기\n",
    "c_mean = []\n",
    "c_std = []\n",
    "for i in range(3):\n",
    "    c_mean.append(np.mean([m[i] for m in rgb_mean]))\n",
    "    c_std.append(np.std([s[i] for s in rgb_std]))\n",
    "\n",
    "print(f'rgb mean: {c_mean}\\nrgb std: {c_std}')"
   ]
  },
  {
   "cell_type": "code",
   "execution_count": 11,
   "id": "ef5a3fa7-a6ee-464d-beee-8191a246b954",
   "metadata": {
    "executionInfo": {
     "elapsed": 352,
     "status": "ok",
     "timestamp": 1699521062743,
     "user": {
      "displayName": "남궁찬",
      "userId": "00576124675161077739"
     },
     "user_tz": -540
    },
    "id": "ef5a3fa7-a6ee-464d-beee-8191a246b954"
   },
   "outputs": [],
   "source": [
    "from torchvision import transforms\n",
    "\n",
    "def get_transforms(image_size):\n",
    "\n",
    "    transforms_train = transforms.Compose([\n",
    "                                       transforms.Resize(256),\n",
    "                                       transforms.RandomRotation(30),\n",
    "                                       transforms.RandomResizedCrop(image_size),\n",
    "                                       transforms.RandomHorizontalFlip(),\n",
    "                                       transforms.ToTensor()\n",
    "                                       # transforms.Normalize([0.5438486, 0.51331395, 0.4501529],\n",
    "                                                            # [0.07585379, 0.07164218, 0.08385534])\n",
    "        ])\n",
    "\n",
    "    transforms_val = transforms.Compose([transforms.Resize(256),\n",
    "                                      transforms.CenterCrop(image_size),\n",
    "                                      transforms.ToTensor(),\n",
    "                                      # transforms.Normalize([0.5438486, 0.51331395, 0.4501529],\n",
    "                                      #                       [0.07585379, 0.07164218, 0.08385534])])\n",
    "                                        ])\n",
    "    return transforms_train, transforms_val"
   ]
  },
  {
   "cell_type": "code",
   "execution_count": 12,
   "id": "e0d69648-4d63-4423-bee9-5421e10cb371",
   "metadata": {
    "executionInfo": {
     "elapsed": 2,
     "status": "ok",
     "timestamp": 1699521063131,
     "user": {
      "displayName": "남궁찬",
      "userId": "00576124675161077739"
     },
     "user_tz": -540
    },
    "id": "e0d69648-4d63-4423-bee9-5421e10cb371"
   },
   "outputs": [],
   "source": [
    "# 모델 트랜스폼 가져오기\n",
    "transforms_train, transforms_val = get_transforms(256)"
   ]
  },
  {
   "cell_type": "code",
   "execution_count": 13,
   "id": "a8a44886-3010-4c51-981d-be40024568f4",
   "metadata": {
    "executionInfo": {
     "elapsed": 2,
     "status": "ok",
     "timestamp": 1699521063131,
     "user": {
      "displayName": "남궁찬",
      "userId": "00576124675161077739"
     },
     "user_tz": -540
    },
    "id": "a8a44886-3010-4c51-981d-be40024568f4"
   },
   "outputs": [],
   "source": [
    "# dataset class 객체 만들기\n",
    "dataset_train = Classification_Dataset(df_train, 'train', transform=transforms_train)\n",
    "dataset_val = Classification_Dataset(df_val, 'valid', transform=transforms_val)"
   ]
  },
  {
   "cell_type": "markdown",
   "id": "c4cf08d3-11db-4765-a853-b29dd1636cff",
   "metadata": {
    "id": "c4cf08d3-11db-4765-a853-b29dd1636cff"
   },
   "source": [
    "### 3-3. Data Loaders\n",
    "- `DataLoader`는 `Classification_Dataset`으로 받아온 데이터(이미지, target)를 **batch**로 묶어 return합니다."
   ]
  },
  {
   "cell_type": "code",
   "execution_count": 14,
   "id": "54e95d17-da4a-468a-abb7-392cb04d2faa",
   "metadata": {
    "executionInfo": {
     "elapsed": 412,
     "status": "ok",
     "timestamp": 1699521069677,
     "user": {
      "displayName": "남궁찬",
      "userId": "00576124675161077739"
     },
     "user_tz": -540
    },
    "id": "54e95d17-da4a-468a-abb7-392cb04d2faa"
   },
   "outputs": [],
   "source": [
    "from torch.utils.data.sampler import RandomSampler\n",
    "from torch.utils.data import DataLoader\n",
    "\n",
    "train_loader = torch.utils.data.DataLoader(dataset_train, batch_size=4, sampler=RandomSampler(dataset_train), num_workers=0)\n",
    "valid_loader = torch.utils.data.DataLoader(dataset_val, batch_size=4, num_workers=0)"
   ]
  },
  {
   "cell_type": "markdown",
   "id": "3fd07e81-fb52-4cb6-b0d1-59f6d29796e5",
   "metadata": {
    "id": "3fd07e81-fb52-4cb6-b0d1-59f6d29796e5"
   },
   "source": [
    "- 해당 DataLoader는 generator로, 다음과 같이 데이터를 불러올 수 있습니다."
   ]
  },
  {
   "cell_type": "code",
   "execution_count": 15,
   "id": "7d4ea928-356c-49fd-a2ff-2ccfb382f597",
   "metadata": {
    "colab": {
     "base_uri": "https://localhost:8080/"
    },
    "executionInfo": {
     "elapsed": 3113,
     "status": "ok",
     "timestamp": 1699520690941,
     "user": {
      "displayName": "남궁찬",
      "userId": "00576124675161077739"
     },
     "user_tz": -540
    },
    "id": "7d4ea928-356c-49fd-a2ff-2ccfb382f597",
    "outputId": "49360e4f-9bb6-4397-c0a2-0fd85d2b6989"
   },
   "outputs": [
    {
     "name": "stdout",
     "output_type": "stream",
     "text": [
      "[batch, channel, ...] : torch.Size([4, 3, 256, 256])\n",
      "torch.Size([4])\n",
      "[batch, channel, ...] : torch.Size([4, 3, 256, 256])\n",
      "torch.Size([4])\n",
      "[batch, channel, ...] : torch.Size([4, 3, 256, 256])\n",
      "torch.Size([4])\n",
      "[batch, channel, ...] : torch.Size([4, 3, 256, 256])\n",
      "torch.Size([4])\n",
      "[batch, channel, ...] : torch.Size([4, 3, 256, 256])\n",
      "torch.Size([4])\n",
      "[batch, channel, ...] : torch.Size([4, 3, 256, 256])\n",
      "torch.Size([4])\n",
      "[batch, channel, ...] : torch.Size([4, 3, 256, 256])\n",
      "torch.Size([4])\n",
      "[batch, channel, ...] : torch.Size([4, 3, 256, 256])\n",
      "torch.Size([4])\n",
      "[batch, channel, ...] : torch.Size([4, 3, 256, 256])\n",
      "torch.Size([4])\n",
      "[batch, channel, ...] : torch.Size([4, 3, 256, 256])\n",
      "torch.Size([4])\n",
      "[batch, channel, ...] : torch.Size([4, 3, 256, 256])\n",
      "torch.Size([4])\n",
      "[batch, channel, ...] : torch.Size([4, 3, 256, 256])\n",
      "torch.Size([4])\n",
      "[batch, channel, ...] : torch.Size([4, 3, 256, 256])\n",
      "torch.Size([4])\n",
      "[batch, channel, ...] : torch.Size([4, 3, 256, 256])\n",
      "torch.Size([4])\n",
      "[batch, channel, ...] : torch.Size([4, 3, 256, 256])\n",
      "torch.Size([4])\n",
      "[batch, channel, ...] : torch.Size([4, 3, 256, 256])\n",
      "torch.Size([4])\n",
      "[batch, channel, ...] : torch.Size([4, 3, 256, 256])\n",
      "torch.Size([4])\n",
      "[batch, channel, ...] : torch.Size([4, 3, 256, 256])\n",
      "torch.Size([4])\n",
      "[batch, channel, ...] : torch.Size([4, 3, 256, 256])\n",
      "torch.Size([4])\n",
      "[batch, channel, ...] : torch.Size([4, 3, 256, 256])\n",
      "torch.Size([4])\n",
      "[batch, channel, ...] : torch.Size([4, 3, 256, 256])\n",
      "torch.Size([4])\n",
      "[batch, channel, ...] : torch.Size([4, 3, 256, 256])\n",
      "torch.Size([4])\n",
      "[batch, channel, ...] : torch.Size([4, 3, 256, 256])\n",
      "torch.Size([4])\n",
      "[batch, channel, ...] : torch.Size([4, 3, 256, 256])\n",
      "torch.Size([4])\n",
      "[batch, channel, ...] : torch.Size([4, 3, 256, 256])\n",
      "torch.Size([4])\n",
      "[batch, channel, ...] : torch.Size([4, 3, 256, 256])\n",
      "torch.Size([4])\n",
      "[batch, channel, ...] : torch.Size([4, 3, 256, 256])\n",
      "torch.Size([4])\n",
      "[batch, channel, ...] : torch.Size([4, 3, 256, 256])\n",
      "torch.Size([4])\n",
      "[batch, channel, ...] : torch.Size([4, 3, 256, 256])\n",
      "torch.Size([4])\n",
      "[batch, channel, ...] : torch.Size([4, 3, 256, 256])\n",
      "torch.Size([4])\n",
      "[batch, channel, ...] : torch.Size([4, 3, 256, 256])\n",
      "torch.Size([4])\n",
      "[batch, channel, ...] : torch.Size([4, 3, 256, 256])\n",
      "torch.Size([4])\n",
      "[batch, channel, ...] : torch.Size([4, 3, 256, 256])\n",
      "torch.Size([4])\n",
      "[batch, channel, ...] : torch.Size([4, 3, 256, 256])\n",
      "torch.Size([4])\n",
      "[batch, channel, ...] : torch.Size([4, 3, 256, 256])\n",
      "torch.Size([4])\n",
      "[batch, channel, ...] : torch.Size([4, 3, 256, 256])\n",
      "torch.Size([4])\n",
      "[batch, channel, ...] : torch.Size([4, 3, 256, 256])\n",
      "torch.Size([4])\n",
      "[batch, channel, ...] : torch.Size([4, 3, 256, 256])\n",
      "torch.Size([4])\n",
      "[batch, channel, ...] : torch.Size([4, 3, 256, 256])\n",
      "torch.Size([4])\n",
      "[batch, channel, ...] : torch.Size([4, 3, 256, 256])\n",
      "torch.Size([4])\n",
      "[batch, channel, ...] : torch.Size([4, 3, 256, 256])\n",
      "torch.Size([4])\n"
     ]
    }
   ],
   "source": [
    "for images, targets in train_loader:\n",
    "    print(f'[batch, channel, ...] : {images.shape}')\n",
    "    print(targets.shape)"
   ]
  },
  {
   "cell_type": "markdown",
   "id": "fed49940-f1aa-4116-8733-298f4e441965",
   "metadata": {
    "id": "fed49940-f1aa-4116-8733-298f4e441965"
   },
   "source": [
    "#### 데이터 준비 파트는 마무리가 되었습니다. 큰 틀을 살펴보면서 정리해보도록 하겠습니다.\n",
    "\n",
    "- `0. 데이터셋 다운받기`: 여러분이 수집한 데이터의 클래스별로 폴더를 구성하여 데이터셋을 준비합니다.\n",
    "- `1. 데이터셋 구성하기`: 저장한 데이터의 정보를 csv 파일로 만듭니다.\n",
    "- `2. 데이터셋 불러오기`: csv 파일을 통해 데이터를 불러와서 train, validation, test로 나눠줍니다.\n",
    "- `3. 학습 시, 데이터셋을 사용할 수 있도록 만들기`\n",
    "    - `3-1. Dataset Class`: pytorch가 dataset을 어떻게 읽을지 알려주는 클래스를 만듭니다. (데이터셋 크기와 지정한 인덱스별로 데이터를 리턴해주는 len, getitem 함수가 포함되어 있습니다.)\n",
    "    - `3-2. Transforms & Augmentation`: 학습을 위해 데이터를 가공합니다.\n",
    "    - `3-3. Data Loaders`: 배치별로 데이터를 묶어줍니다. Training시, 배치단위별로 데이터가 호출됩니다.\n",
    "\n",
    "___"
   ]
  },
  {
   "cell_type": "markdown",
   "id": "808efab9-2468-49fc-a760-d1ba37f0f8dd",
   "metadata": {
    "id": "808efab9-2468-49fc-a760-d1ba37f0f8dd"
   },
   "source": [
    "# 4. Model\n",
    "\n",
    "`VGG16` 모델을 transfer learning하는 방식으로 진행합니다. <br>\n",
    "자세한 예는 https://pytorch.org/vision/stable/models.html 에 나와있습니다.\n",
    "\n",
    "<img src='https://user-images.githubusercontent.com/46768752/138986562-1cbfcd9a-da6b-45e8-b4ae-3b2af0d2ae16.png'>"
   ]
  },
  {
   "cell_type": "code",
   "execution_count": 16,
   "id": "24UTeWEyMknF",
   "metadata": {
    "executionInfo": {
     "elapsed": 582,
     "status": "ok",
     "timestamp": 1699522628269,
     "user": {
      "displayName": "남궁찬",
      "userId": "00576124675161077739"
     },
     "user_tz": -540
    },
    "id": "24UTeWEyMknF"
   },
   "outputs": [],
   "source": [
    "batch_size = 4\n",
    "learning_rate = 0.0002\n",
    "num_epoch = 5"
   ]
  },
  {
   "cell_type": "code",
   "execution_count": 17,
   "id": "EBQ3d-uOMUW4",
   "metadata": {
    "executionInfo": {
     "elapsed": 9,
     "status": "ok",
     "timestamp": 1699522628775,
     "user": {
      "displayName": "남궁찬",
      "userId": "00576124675161077739"
     },
     "user_tz": -540
    },
    "id": "EBQ3d-uOMUW4"
   },
   "outputs": [],
   "source": [
    "class Autoencoder(nn.Module):\n",
    "      def __init__(self):\n",
    "          super(Autoencoder,self).__init__()\n",
    "          self.encoder = nn.Linear(3*256*256, 64)\n",
    "          self.decoder = nn.Linear(64,3*256*256)\n",
    "      def forward(self,x):\n",
    "          x=x.view(batch_size,-1)\n",
    "          encoded = self.encoder(x)\n",
    "          out = self.decoder(encoded).view(batch_size,3,256,256)\n",
    "\n",
    "          return out"
   ]
  },
  {
   "cell_type": "code",
   "execution_count": 18,
   "id": "c2ef8231-1612-465b-ba4d-56b1eadac493",
   "metadata": {
    "colab": {
     "base_uri": "https://localhost:8080/"
    },
    "executionInfo": {
     "elapsed": 7,
     "status": "ok",
     "timestamp": 1699522628775,
     "user": {
      "displayName": "남궁찬",
      "userId": "00576124675161077739"
     },
     "user_tz": -540
    },
    "id": "c2ef8231-1612-465b-ba4d-56b1eadac493",
    "outputId": "1c139e55-33ed-4363-a296-42ae0f9fd836"
   },
   "outputs": [
    {
     "name": "stdout",
     "output_type": "stream",
     "text": [
      "cpu\n"
     ]
    }
   ],
   "source": [
    "from torchvision import models\n",
    "from collections import OrderedDict\n",
    "import torch.nn as nn\n",
    "device = torch.device(\"cuda:0\" if torch.cuda.is_available() else \"cpu\")\n",
    "print(device)\n",
    "model = Autoencoder().to(device)\n",
    "loss_func = nn.MSELoss()\n",
    "optimizer = torch.optim.Adam(model.parameters(), lr = learning_rate)\n",
    "# model"
   ]
  },
  {
   "cell_type": "code",
   "execution_count": 19,
   "id": "-jmPSYNDcL3w",
   "metadata": {
    "colab": {
     "base_uri": "https://localhost:8080/",
     "height": 410
    },
    "executionInfo": {
     "elapsed": 4,
     "status": "error",
     "timestamp": 1699522628775,
     "user": {
      "displayName": "남궁찬",
      "userId": "00576124675161077739"
     },
     "user_tz": -540
    },
    "id": "-jmPSYNDcL3w",
    "outputId": "e41bb165-c54f-47f7-a454-59d32f07d199"
   },
   "outputs": [],
   "source": [
    "loss_arr =[]\n",
    "for i in range(num_epoch):\n",
    "    for j,[image,label] in enumerate(train_loader):\n",
    "        x = image.to(device)\n",
    "\n",
    "        optimizer.zero_grad()\n",
    "        output = model.forward(x)\n",
    "        loss = loss_func(output,x)\n",
    "        loss.backward()\n",
    "        optimizer.step()\n",
    "\n",
    "    if j % 1000 == 0:\n",
    "        print(loss)\n",
    "        loss_arr.append(loss.cpu().data.numpy()[0])"
   ]
  },
  {
   "cell_type": "code",
   "execution_count": 40,
   "id": "9ee31bc2-a903-461f-aa23-301c3908b6ff",
   "metadata": {
    "tags": []
   },
   "outputs": [
    {
     "name": "stdout",
     "output_type": "stream",
     "text": [
      "torch.Size([4, 3, 256, 256])\n",
      "torch.Size([4, 3, 256, 256])\n"
     ]
    }
   ],
   "source": [
    "out_img = torch.squeeze(output.cpu().data)\n",
    "print(out_img.size())\n",
    "print(out_img.shape)\n"
   ]
  },
  {
   "cell_type": "code",
   "execution_count": null,
   "id": "YR7976_cM7A6",
   "metadata": {
    "executionInfo": {
     "elapsed": 3,
     "status": "ok",
     "timestamp": 1699522534181,
     "user": {
      "displayName": "남궁찬",
      "userId": "00576124675161077739"
     },
     "user_tz": -540
    },
    "id": "YR7976_cM7A6"
   },
   "outputs": [],
   "source": [
    "# class Encoder(nn.Module):\n",
    "#     def __init__(self):\n",
    "#         super(Encoder,self).__init__()\n",
    "#         self.layer1 = nn.Sequential(\n",
    "#                         nn.Conv2d(3,16,3,padding=1),\n",
    "#                         nn.ReLU(),\n",
    "#                         nn.BatchNorm2d(16),\n",
    "#                         nn.Conv2d(16,32,3,padding=1),\n",
    "#                         nn.ReLU(),\n",
    "#                         nn.BatchNorm2d(32),\n",
    "#                         nn.Conv2d(32,64,3,padding=1),\n",
    "#                         nn.ReLU(),\n",
    "#                         nn.BatchNorm2d(64),\n",
    "#                         nn.MaxPool2d(2,2)\n",
    "#         )\n",
    "#         self.layer2 = nn.Sequential(\n",
    "#                         nn.Conv2d(64,128,3,padding=1),\n",
    "#                         nn.ReLU(),\n",
    "#                         nn.BatchNorm2d(128),\n",
    "#                         nn.MaxPool2d(2,2),\n",
    "#                         nn.Conv2d(128,256,3,padding=1),\n",
    "#                         nn.ReLU()\n",
    "#         )\n",
    "\n",
    "\n",
    "#     def forward(self,x):\n",
    "#         out = self.layer1(x)\n",
    "#         out = self.layer2(out)\n",
    "#         out = out.view(batch_size, -1)\n",
    "#         return out\n",
    "\n",
    "# class Decoder(nn.Module):\n",
    "#     def __init__(self):\n",
    "#        super(Decoder,self).__init__()\n",
    "#        self.layer1 = nn.Sequential(\n",
    "#                         nn.ConvTranspose2d(256,128,3,2,1,1),\n",
    "#                         nn.ReLU(),\n",
    "#                         nn.BatchNorm2d(128),\n",
    "#                         nn.ConvTranspose2d(128,64,3,1,1),\n",
    "#                         nn.ReLU(),\n",
    "#                         nn.BatchNorm2d(64)\n",
    "\n",
    "#         )\n",
    "#        self.layer2 = nn.Sequential(\n",
    "#                         nn.ConvTranspose2d(64,16,3,1,1),\n",
    "#                         nn.ReLU(),\n",
    "#                         nn.BatchNorm2d(16),\n",
    "#                         nn.ConvTranspose2d(16,1,3,2,1,1),\n",
    "#                         nn.ReLU()\n",
    "#                         )\n",
    "\n",
    "#     def forward(self,x):\n",
    "#         out = x.view(256,256,3,4)\n",
    "#         out = self.layer1(out)\n",
    "#         out = self.layer2(out)\n",
    "#         return out\n",
    "\n"
   ]
  },
  {
   "cell_type": "code",
   "execution_count": null,
   "id": "2669e32d-abe2-4385-890f-f445fed23afc",
   "metadata": {},
   "outputs": [],
   "source": []
  },
  {
   "cell_type": "code",
   "execution_count": null,
   "id": "2cb5MrFMcLCQ",
   "metadata": {
    "id": "2cb5MrFMcLCQ"
   },
   "outputs": [],
   "source": []
  },
  {
   "cell_type": "code",
   "execution_count": 20,
   "id": "etmtYhmFYP4V",
   "metadata": {
    "executionInfo": {
     "elapsed": 456,
     "status": "ok",
     "timestamp": 1699522556814,
     "user": {
      "displayName": "남궁찬",
      "userId": "00576124675161077739"
     },
     "user_tz": -540
    },
    "id": "etmtYhmFYP4V"
   },
   "outputs": [],
   "source": [
    "class Encoder(nn.Module):\n",
    "    def __init__(self):\n",
    "        super(Encoder, self).__init__()\n",
    "        self.layer1 = nn.Sequential(\n",
    "            nn.Conv2d(3, 16, 3, padding=1),\n",
    "            nn.ReLU(),\n",
    "            nn.BatchNorm2d(16),\n",
    "            nn.Conv2d(16, 32, 3, padding=1),\n",
    "            nn.ReLU(),\n",
    "            nn.BatchNorm2d(32),\n",
    "            nn.Conv2d(32, 64, 3, padding=1),\n",
    "            nn.ReLU(),\n",
    "            nn.BatchNorm2d(64),\n",
    "            nn.MaxPool2d(2, 2)\n",
    "        )\n",
    "        self.layer2 = nn.Sequential(\n",
    "            nn.Conv2d(64, 128, 3, padding=1),\n",
    "            nn.ReLU(),\n",
    "            nn.BatchNorm2d(128),\n",
    "            nn.MaxPool2d(2, 2),\n",
    "            nn.Conv2d(128, 256, 3, padding=1),\n",
    "            nn.ReLU()\n",
    "        )\n",
    "\n",
    "    def forward(self, x):\n",
    "        out = self.layer1(x)\n",
    "        out = self.layer2(out)\n",
    "        out = out.view(out.size(0), -1)  # Adjust the size for the fully connected layer\n",
    "        return out\n",
    "\n",
    "class Decoder(nn.Module):\n",
    "    def __init__(self):\n",
    "        super(Decoder, self).__init__()\n",
    "        self.layer1 = nn.Sequential(\n",
    "            nn.ConvTranspose2d(256, 128, 3, 2, 1, 1),\n",
    "            nn.ReLU(),\n",
    "            nn.BatchNorm2d(128),\n",
    "            nn.ConvTranspose2d(128, 64, 3, 1, 1),\n",
    "            nn.ReLU(),\n",
    "            nn.BatchNorm2d(64),\n",
    "        )\n",
    "        self.layer2 = nn.Sequential(\n",
    "            nn.ConvTranspose2d(64, 16, 3, 1, 1),\n",
    "            nn.ReLU(),\n",
    "            nn.BatchNorm2d(16),\n",
    "            nn.ConvTranspose2d(16, 3, 3, 2, 1, 1),\n",
    "        )\n",
    "\n",
    "    def forward(self, x):\n",
    "        x = x.view(x.size(0), 256, 64, 64)  # Reverse the view operation from the Encoder\n",
    "        out = self.layer1(x)\n",
    "        out = self.layer2(out)\n",
    "        return out\n"
   ]
  },
  {
   "cell_type": "code",
   "execution_count": null,
   "id": "fc6e3caa-6861-40e2-8ed2-7803730f84eb",
   "metadata": {
    "tags": []
   },
   "outputs": [],
   "source": []
  },
  {
   "cell_type": "code",
   "execution_count": 21,
   "id": "rJuUEzrCTmbZ",
   "metadata": {
    "colab": {
     "base_uri": "https://localhost:8080/"
    },
    "executionInfo": {
     "elapsed": 4,
     "status": "ok",
     "timestamp": 1699522478758,
     "user": {
      "displayName": "남궁찬",
      "userId": "00576124675161077739"
     },
     "user_tz": -540
    },
    "id": "rJuUEzrCTmbZ",
    "outputId": "3787700b-1cfa-46e3-b57e-34852e1ad759"
   },
   "outputs": [
    {
     "name": "stdout",
     "output_type": "stream",
     "text": [
      "cpu\n"
     ]
    }
   ],
   "source": [
    "device = torch.device(\"cuda:0\" if torch.cuda.is_available() else \"cpu\")\n",
    "print(device)\n",
    "\n",
    "encoder = Encoder().to(device)\n",
    "decoder = Decoder().to(device)\n",
    "\n",
    "# 인코더 디코더의 파라미터를 동시에 학습시키기 위해 이를 묶는 방법입니다.\n",
    "parameters = list(encoder.parameters())+ list(decoder.parameters())\n",
    "\n",
    "loss_func = nn.MSELoss()\n",
    "optimizer = torch.optim.Adam(parameters, lr=learning_rate)"
   ]
  },
  {
   "cell_type": "code",
   "execution_count": null,
   "id": "c158f42b-1cc1-4009-bcc8-b61b2f18021f",
   "metadata": {
    "executionInfo": {
     "elapsed": 2,
     "status": "ok",
     "timestamp": 1699522478758,
     "user": {
      "displayName": "남궁찬",
      "userId": "00576124675161077739"
     },
     "user_tz": -540
    },
    "id": "c158f42b-1cc1-4009-bcc8-b61b2f18021f"
   },
   "outputs": [],
   "source": [
    "# # Backprop을 수행하지 않도록 parameter들을 동결시키기\n",
    "# # 재학습을 위해, 모든 parameters의 gradient를 꺼놓기\n",
    "# for param in model.parameters():\n",
    "#     param.requires_grad = False\n",
    "\n",
    "# # 마지막 layer를 과제에 맞게 수정하기\n",
    "# classifier = nn.Sequential(OrderedDict([\n",
    "#                           ('fc1', nn.Linear(25088, 500)),\n",
    "#                           ('relu', nn.ReLU()),\n",
    "#                           ('fc2', nn.Linear(500, 250)),\n",
    "#                           ('relu', nn.ReLU()),\n",
    "#                           ('fc3', nn.Linear(250, 5))\n",
    "#                           ]))\n",
    "\n",
    "# model.classifier = classifier"
   ]
  },
  {
   "cell_type": "code",
   "execution_count": null,
   "id": "Ub5sqC6wNKvl",
   "metadata": {
    "executionInfo": {
     "elapsed": 2,
     "status": "ok",
     "timestamp": 1699522479660,
     "user": {
      "displayName": "남궁찬",
      "userId": "00576124675161077739"
     },
     "user_tz": -540
    },
    "id": "Ub5sqC6wNKvl"
   },
   "outputs": [],
   "source": []
  },
  {
   "cell_type": "markdown",
   "id": "eca08a10-670c-4fe1-a75a-96da2510e5e9",
   "metadata": {
    "id": "eca08a10-670c-4fe1-a75a-96da2510e5e9"
   },
   "source": [
    "# 5. Training"
   ]
  },
  {
   "cell_type": "code",
   "execution_count": 22,
   "id": "8463b730-4ec7-4f65-af67-de534129d704",
   "metadata": {
    "executionInfo": {
     "elapsed": 5,
     "status": "ok",
     "timestamp": 1699522480601,
     "user": {
      "displayName": "남궁찬",
      "userId": "00576124675161077739"
     },
     "user_tz": -540
    },
    "id": "8463b730-4ec7-4f65-af67-de534129d704"
   },
   "outputs": [],
   "source": [
    "import numpy as np\n",
    "import cv2\n",
    "import random\n",
    "import time\n",
    "import torch.optim as optim\n",
    "\n",
    "from tqdm import tqdm"
   ]
  },
  {
   "cell_type": "markdown",
   "id": "39ff4a46-c355-4d42-b55d-d643921a6f0b",
   "metadata": {
    "id": "39ff4a46-c355-4d42-b55d-d643921a6f0b"
   },
   "source": [
    "## 3-1. Train"
   ]
  },
  {
   "cell_type": "code",
   "execution_count": null,
   "id": "l2VImmwwOvyY",
   "metadata": {
    "colab": {
     "base_uri": "https://localhost:8080/",
     "height": 465
    },
    "executionInfo": {
     "elapsed": 6,
     "status": "error",
     "timestamp": 1699522560676,
     "user": {
      "displayName": "남궁찬",
      "userId": "00576124675161077739"
     },
     "user_tz": -540
    },
    "id": "l2VImmwwOvyY",
    "outputId": "65ac579b-8ca3-498c-d460-34b64ca94a91"
   },
   "outputs": [],
   "source": [
    "# try:\n",
    "#     encoder, decoder = torch.load('./model/conv_autoencoder.pkl')\n",
    "#     print(\"\\n--------model restored--------\\n\")\n",
    "# except:\n",
    "#     print(\"\\n--------model not restored--------\\n\")\n",
    "#     pass\n",
    "\n",
    "# for i in range(num_epoch):\n",
    "#     for j,[image,label] in enumerate(train_loader):\n",
    "#        optimizer.zero_grad()\n",
    "#        image = image.to(device)\n",
    "\n",
    "#        output = encoder(image)\n",
    "#        output = decoder(output)\n",
    "\n",
    "#        loss = loss_func(output,image)\n",
    "#        loss.backward()\n",
    "#        optimizer.step()\n",
    "\n",
    "\n",
    "#     if j % 10 == 0:\n",
    "#         # 모델 저장하는 방법\n",
    "#         # 이 역시 크게 두가지 방법이 있는데 여기 사용된 방법은 좀 단순한 방법입니다.\n",
    "#         # https://pytorch.org/tutorials/beginner/saving_loading_models.html\n",
    "#         torch.save([encoder,decoder],'./model/conv_autoencoder.pkl')\n",
    "#         print(loss)\n"
   ]
  },
  {
   "cell_type": "code",
   "execution_count": null,
   "id": "ba1bda19-f612-4047-9055-01f749becfde",
   "metadata": {
    "executionInfo": {
     "elapsed": 4,
     "status": "aborted",
     "timestamp": 1699522271915,
     "user": {
      "displayName": "남궁찬",
      "userId": "00576124675161077739"
     },
     "user_tz": -540
    },
    "id": "ba1bda19-f612-4047-9055-01f749becfde"
   },
   "outputs": [],
   "source": [
    "# def train_epoch(model, loader, device, F, optimizer):\n",
    "\n",
    "#     model.train()   # 모델 train 모드로 바꾸기\n",
    "#     train_loss = []\n",
    "#     bar = tqdm(loader)\n",
    "#     for i, (data, target) in enumerate(bar):\n",
    "        \n",
    "#         optimizer.zero_grad()  # 최적화된 모든 변수 초기화\n",
    "        \n",
    "#         data, target = data.to(device), target.to(device)  # 지정한 device로 데이터 옮기기\n",
    "#         logits = model(data)              # 1. forward pass\n",
    "        \n",
    "#         loss = criterion(logits, target)  # 2. loss 계산\n",
    "#         loss.backward()                   # 3. backward pass\n",
    "\n",
    "#         optimizer.step()                  # 4. gradient descent(파라미터 업데이트)\n",
    "\n",
    "#         loss_np = loss.detach().cpu().numpy() # loss값 가져오기 위해 gpu에 있던 데이터 모두 cpu로 옮기기\n",
    "#         train_loss.append(loss_np)\n",
    "#         bar.set_description('loss: %.5f' % (loss_np))\n",
    "\n",
    "#     train_loss = np.mean(train_loss)  # 한 epoch당 train loss의 평균 구하기\n",
    "#     return train_loss"
   ]
  },
  {
   "cell_type": "markdown",
   "id": "bea0f489-30a4-4cdd-9a79-ec1180de8401",
   "metadata": {
    "id": "bea0f489-30a4-4cdd-9a79-ec1180de8401"
   },
   "source": [
    "## 3-2. Validation"
   ]
  },
  {
   "cell_type": "code",
   "execution_count": null,
   "id": "a4048512-6a0e-42fb-a1f0-880a749bf67f",
   "metadata": {
    "executionInfo": {
     "elapsed": 571,
     "status": "ok",
     "timestamp": 1699518710591,
     "user": {
      "displayName": "남궁찬",
      "userId": "00576124675161077739"
     },
     "user_tz": -540
    },
    "id": "a4048512-6a0e-42fb-a1f0-880a749bf67f"
   },
   "outputs": [],
   "source": [
    "# def val_epoch(model, loader, device, criterion):\n",
    "\n",
    "#     model.eval()  # 모델 evaluate 모드로 바꾸기\n",
    "#     val_loss = []\n",
    "#     LOGITS = []\n",
    "#     PROBS = []\n",
    "#     TARGETS = []\n",
    "#     with torch.no_grad():\n",
    "#         for (data, target) in tqdm(loader):\n",
    "\n",
    "#             data, target = data.to(device), target.to(device) # 지정한 device로 데이터 옮기기\n",
    "#             logits = model(data) # 1. forward pass\n",
    "#             probs = logits.softmax(1)  # 다중분류 -> 각 클래스일 확률을 전체 1로 두고 계산하기\n",
    "\n",
    "#             LOGITS.append(logits.detach().cpu())\n",
    "#             PROBS.append(probs.detach().cpu())\n",
    "#             TARGETS.append(target.detach().cpu())\n",
    "\n",
    "#             loss = criterion(logits, target) # 2. loss 계산\n",
    "#             val_loss.append(loss.detach().cpu().numpy())\n",
    "\n",
    "#     val_loss = np.mean(val_loss)\n",
    "#     LOGITS = torch.cat(LOGITS).numpy()\n",
    "#     PROBS = torch.cat(PROBS).numpy()\n",
    "#     TARGETS = torch.cat(TARGETS).numpy()\n",
    "\n",
    "#     # accuracy : 정확도\n",
    "#     acc = (PROBS.argmax(1) == TARGETS).mean() * 100.\n",
    "\n",
    "#     return val_loss, acc"
   ]
  },
  {
   "cell_type": "markdown",
   "id": "c9e249b7-1b43-4b9a-8835-a34c63f8a9b5",
   "metadata": {
    "id": "c9e249b7-1b43-4b9a-8835-a34c63f8a9b5"
   },
   "source": [
    "## 3-3. 학습시키기"
   ]
  },
  {
   "cell_type": "code",
   "execution_count": null,
   "id": "E0AM3LvDReFG",
   "metadata": {
    "id": "E0AM3LvDReFG",
    "tags": []
   },
   "outputs": [],
   "source": [
    "np.sqrt(4096)"
   ]
  },
  {
   "cell_type": "code",
   "execution_count": 28,
   "id": "9ecca30b-be34-43a5-aac3-49f8a9b35971",
   "metadata": {
    "executionInfo": {
     "elapsed": 385,
     "status": "ok",
     "timestamp": 1699518715731,
     "user": {
      "displayName": "남궁찬",
      "userId": "00576124675161077739"
     },
     "user_tz": -540
    },
    "id": "9ecca30b-be34-43a5-aac3-49f8a9b35971"
   },
   "outputs": [],
   "source": [
    "\n",
    "# def run(model, init_lr, n_epochs):\n",
    "\n",
    "#     # gpu 사용\n",
    "#     device = torch.device('cuda' if torch.cuda.is_available() else 'cpu')\n",
    "\n",
    "#     # model을 지정한 장치로 옮기기\n",
    "#     model = model.to(device)\n",
    "\n",
    "#     # loss function 지정\n",
    "#     criterion= nn.MSELoss()\n",
    "\n",
    "#     # optimizer로 adam 사용\n",
    "#     optimizer = optim.Adam(model.parameters(), lr=init_lr)\n",
    "\n",
    "#     for epoch in range(1, n_epochs + 1):\n",
    "#         print(time.ctime(), f'Epoch {epoch}')\n",
    "\n",
    "#         train_loss = train_epoch(model, train_loader, device, criterion, optimizer) # train\n",
    "#         val_loss, acc = val_epoch(model, valid_loader, device, criterion) # validation\n",
    "\n",
    "#         content = time.ctime() + ' ' + f'Epoch {epoch}, lr: {optimizer.param_groups[0][\"lr\"]:.7f}, train loss: {train_loss:.5f}, valid loss: {(val_loss):.5f}, Acc: {(acc):.4f}.'\n",
    "#         print(content)\n",
    "#         train_loss1.append(train_loss)\n",
    "#         val_loss1.append(val_loss)\n",
    "#         acc1.append(acc)\n",
    "\n",
    "#     torch.save(model.state_dict(), 'best_model.pth')\n"
   ]
  },
  {
   "cell_type": "code",
   "execution_count": null,
   "id": "a06e8ea3-6bc7-454b-8c34-49fdd4a4eb79",
   "metadata": {
    "colab": {
     "base_uri": "https://localhost:8080/",
     "height": 410
    },
    "executionInfo": {
     "elapsed": 9,
     "status": "error",
     "timestamp": 1699518745713,
     "user": {
      "displayName": "남궁찬",
      "userId": "00576124675161077739"
     },
     "user_tz": -540
    },
    "id": "a06e8ea3-6bc7-454b-8c34-49fdd4a4eb79",
    "outputId": "2528ac0a-29ff-4962-b510-50e7c851c78d"
   },
   "outputs": [],
   "source": [
    "# import time\n",
    "\n",
    "# train_loss1 = []\n",
    "# val_loss1 = []\n",
    "# acc1 = []\n",
    "# run(model, init_lr=1e-6, n_epochs=20)"
   ]
  },
  {
   "cell_type": "code",
   "execution_count": 23,
   "id": "c6e00ac0-36dc-44c4-9b82-f8d686934736",
   "metadata": {
    "tags": []
   },
   "outputs": [
    {
     "name": "stderr",
     "output_type": "stream",
     "text": [
      "epoch 1/50 (train): 100%|██████████| 41/41 [00:26<00:00,  1.53it/s]\n",
      "epoch 1/50 (valid): 100%|██████████| 11/11 [00:02<00:00,  4.69it/s]\n"
     ]
    },
    {
     "name": "stdout",
     "output_type": "stream",
     "text": [
      "Epoch [1/50], Train Loss: 0.4966, Val Loss: 0.4301\n",
      "model save.\n"
     ]
    },
    {
     "name": "stderr",
     "output_type": "stream",
     "text": [
      "epoch 2/50 (train): 100%|██████████| 41/41 [00:25<00:00,  1.58it/s]\n",
      "epoch 2/50 (valid): 100%|██████████| 11/11 [00:02<00:00,  4.66it/s]\n"
     ]
    },
    {
     "name": "stdout",
     "output_type": "stream",
     "text": [
      "Epoch [2/50], Train Loss: 0.3824, Val Loss: 0.3461\n",
      "model save.\n"
     ]
    },
    {
     "name": "stderr",
     "output_type": "stream",
     "text": [
      "epoch 3/50 (train): 100%|██████████| 41/41 [00:26<00:00,  1.53it/s]\n",
      "epoch 3/50 (valid): 100%|██████████| 11/11 [00:02<00:00,  4.53it/s]\n"
     ]
    },
    {
     "name": "stdout",
     "output_type": "stream",
     "text": [
      "Epoch [3/50], Train Loss: 0.3518, Val Loss: 0.3340\n",
      "model save.\n"
     ]
    },
    {
     "name": "stderr",
     "output_type": "stream",
     "text": [
      "epoch 4/50 (train): 100%|██████████| 41/41 [00:26<00:00,  1.55it/s]\n",
      "epoch 4/50 (valid): 100%|██████████| 11/11 [00:02<00:00,  4.15it/s]\n"
     ]
    },
    {
     "name": "stdout",
     "output_type": "stream",
     "text": [
      "Epoch [4/50], Train Loss: 0.3297, Val Loss: 0.2945\n",
      "model save.\n"
     ]
    },
    {
     "name": "stderr",
     "output_type": "stream",
     "text": [
      "epoch 5/50 (train): 100%|██████████| 41/41 [00:27<00:00,  1.52it/s]\n",
      "epoch 5/50 (valid): 100%|██████████| 11/11 [00:02<00:00,  4.02it/s]\n"
     ]
    },
    {
     "name": "stdout",
     "output_type": "stream",
     "text": [
      "Epoch [5/50], Train Loss: 0.3080, Val Loss: 0.2832\n",
      "model save.\n"
     ]
    },
    {
     "name": "stderr",
     "output_type": "stream",
     "text": [
      "epoch 6/50 (train): 100%|██████████| 41/41 [00:27<00:00,  1.51it/s]\n",
      "epoch 6/50 (valid): 100%|██████████| 11/11 [00:02<00:00,  4.06it/s]\n"
     ]
    },
    {
     "name": "stdout",
     "output_type": "stream",
     "text": [
      "Epoch [6/50], Train Loss: 0.2813, Val Loss: 0.2658\n",
      "model save.\n"
     ]
    },
    {
     "name": "stderr",
     "output_type": "stream",
     "text": [
      "epoch 7/50 (train): 100%|██████████| 41/41 [00:26<00:00,  1.53it/s]\n",
      "epoch 7/50 (valid): 100%|██████████| 11/11 [00:02<00:00,  4.04it/s]\n"
     ]
    },
    {
     "name": "stdout",
     "output_type": "stream",
     "text": [
      "Epoch [7/50], Train Loss: 0.2420, Val Loss: 0.2388\n",
      "model save.\n"
     ]
    },
    {
     "name": "stderr",
     "output_type": "stream",
     "text": [
      "epoch 8/50 (train): 100%|██████████| 41/41 [00:27<00:00,  1.51it/s]\n",
      "epoch 8/50 (valid): 100%|██████████| 11/11 [00:02<00:00,  4.11it/s]\n"
     ]
    },
    {
     "name": "stdout",
     "output_type": "stream",
     "text": [
      "Epoch [8/50], Train Loss: 0.2203, Val Loss: 0.1970\n",
      "model save.\n"
     ]
    },
    {
     "name": "stderr",
     "output_type": "stream",
     "text": [
      "epoch 9/50 (train): 100%|██████████| 41/41 [00:26<00:00,  1.57it/s]\n",
      "epoch 9/50 (valid): 100%|██████████| 11/11 [00:02<00:00,  4.18it/s]\n"
     ]
    },
    {
     "name": "stdout",
     "output_type": "stream",
     "text": [
      "Epoch [9/50], Train Loss: 0.1747, Val Loss: 0.1608\n",
      "model save.\n"
     ]
    },
    {
     "name": "stderr",
     "output_type": "stream",
     "text": [
      "epoch 10/50 (train): 100%|██████████| 41/41 [00:26<00:00,  1.52it/s]\n",
      "epoch 10/50 (valid): 100%|██████████| 11/11 [00:02<00:00,  3.95it/s]\n"
     ]
    },
    {
     "name": "stdout",
     "output_type": "stream",
     "text": [
      "Epoch [10/50], Train Loss: 0.1472, Val Loss: 0.1380\n",
      "model save.\n"
     ]
    },
    {
     "name": "stderr",
     "output_type": "stream",
     "text": [
      "epoch 11/50 (train): 100%|██████████| 41/41 [00:26<00:00,  1.52it/s]\n",
      "epoch 11/50 (valid): 100%|██████████| 11/11 [00:02<00:00,  4.01it/s]\n"
     ]
    },
    {
     "name": "stdout",
     "output_type": "stream",
     "text": [
      "Epoch [11/50], Train Loss: 0.1194, Val Loss: 0.0992\n",
      "model save.\n"
     ]
    },
    {
     "name": "stderr",
     "output_type": "stream",
     "text": [
      "epoch 12/50 (train): 100%|██████████| 41/41 [00:27<00:00,  1.50it/s]\n",
      "epoch 12/50 (valid): 100%|██████████| 11/11 [00:02<00:00,  4.04it/s]\n"
     ]
    },
    {
     "name": "stdout",
     "output_type": "stream",
     "text": [
      "Epoch [12/50], Train Loss: 0.0914, Val Loss: 0.0780\n",
      "model save.\n"
     ]
    },
    {
     "name": "stderr",
     "output_type": "stream",
     "text": [
      "epoch 13/50 (train): 100%|██████████| 41/41 [00:26<00:00,  1.52it/s]\n",
      "epoch 13/50 (valid): 100%|██████████| 11/11 [00:02<00:00,  3.86it/s]\n"
     ]
    },
    {
     "name": "stdout",
     "output_type": "stream",
     "text": [
      "Epoch [13/50], Train Loss: 0.0737, Val Loss: 0.0586\n",
      "model save.\n"
     ]
    },
    {
     "name": "stderr",
     "output_type": "stream",
     "text": [
      "epoch 14/50 (train): 100%|██████████| 41/41 [00:26<00:00,  1.52it/s]\n",
      "epoch 14/50 (valid): 100%|██████████| 11/11 [00:02<00:00,  3.99it/s]\n"
     ]
    },
    {
     "name": "stdout",
     "output_type": "stream",
     "text": [
      "Epoch [14/50], Train Loss: 0.0550, Val Loss: 0.0455\n",
      "model save.\n"
     ]
    },
    {
     "name": "stderr",
     "output_type": "stream",
     "text": [
      "epoch 15/50 (train): 100%|██████████| 41/41 [00:27<00:00,  1.52it/s]\n",
      "epoch 15/50 (valid): 100%|██████████| 11/11 [00:02<00:00,  4.01it/s]\n"
     ]
    },
    {
     "name": "stdout",
     "output_type": "stream",
     "text": [
      "Epoch [15/50], Train Loss: 0.0497, Val Loss: 0.0439\n",
      "model save.\n"
     ]
    },
    {
     "name": "stderr",
     "output_type": "stream",
     "text": [
      "epoch 16/50 (train): 100%|██████████| 41/41 [00:27<00:00,  1.52it/s]\n",
      "epoch 16/50 (valid): 100%|██████████| 11/11 [00:02<00:00,  3.91it/s]\n"
     ]
    },
    {
     "name": "stdout",
     "output_type": "stream",
     "text": [
      "Epoch [16/50], Train Loss: 0.0365, Val Loss: 0.0266\n",
      "model save.\n"
     ]
    },
    {
     "name": "stderr",
     "output_type": "stream",
     "text": [
      "epoch 17/50 (train): 100%|██████████| 41/41 [00:26<00:00,  1.53it/s]\n",
      "epoch 17/50 (valid): 100%|██████████| 11/11 [00:02<00:00,  4.01it/s]\n"
     ]
    },
    {
     "name": "stdout",
     "output_type": "stream",
     "text": [
      "Epoch [17/50], Train Loss: 0.0290, Val Loss: 0.0195\n",
      "model save.\n"
     ]
    },
    {
     "name": "stderr",
     "output_type": "stream",
     "text": [
      "epoch 18/50 (train): 100%|██████████| 41/41 [00:27<00:00,  1.52it/s]\n",
      "epoch 18/50 (valid): 100%|██████████| 11/11 [00:02<00:00,  3.81it/s]\n"
     ]
    },
    {
     "name": "stdout",
     "output_type": "stream",
     "text": [
      "Epoch [18/50], Train Loss: 0.0254, Val Loss: 0.0155\n",
      "model save.\n"
     ]
    },
    {
     "name": "stderr",
     "output_type": "stream",
     "text": [
      "epoch 19/50 (train): 100%|██████████| 41/41 [00:25<00:00,  1.64it/s]\n",
      "epoch 19/50 (valid): 100%|██████████| 11/11 [00:02<00:00,  4.72it/s]\n"
     ]
    },
    {
     "name": "stdout",
     "output_type": "stream",
     "text": [
      "Epoch [19/50], Train Loss: 0.0188, Val Loss: 0.0120\n",
      "model save.\n"
     ]
    },
    {
     "name": "stderr",
     "output_type": "stream",
     "text": [
      "epoch 20/50 (train): 100%|██████████| 41/41 [00:25<00:00,  1.63it/s]\n",
      "epoch 20/50 (valid): 100%|██████████| 11/11 [00:02<00:00,  5.06it/s]\n"
     ]
    },
    {
     "name": "stdout",
     "output_type": "stream",
     "text": [
      "Epoch [20/50], Train Loss: 0.0175, Val Loss: 0.0117\n",
      "model save.\n"
     ]
    },
    {
     "name": "stderr",
     "output_type": "stream",
     "text": [
      "epoch 21/50 (train): 100%|██████████| 41/41 [00:24<00:00,  1.69it/s]\n",
      "epoch 21/50 (valid): 100%|██████████| 11/11 [00:02<00:00,  4.88it/s]\n"
     ]
    },
    {
     "name": "stdout",
     "output_type": "stream",
     "text": [
      "Epoch [21/50], Train Loss: 0.0149, Val Loss: 0.0114\n",
      "model save.\n"
     ]
    },
    {
     "name": "stderr",
     "output_type": "stream",
     "text": [
      "epoch 22/50 (train): 100%|██████████| 41/41 [00:24<00:00,  1.68it/s]\n",
      "epoch 22/50 (valid): 100%|██████████| 11/11 [00:02<00:00,  4.79it/s]\n"
     ]
    },
    {
     "name": "stdout",
     "output_type": "stream",
     "text": [
      "Epoch [22/50], Train Loss: 0.0125, Val Loss: 0.0080\n",
      "model save.\n"
     ]
    },
    {
     "name": "stderr",
     "output_type": "stream",
     "text": [
      "epoch 23/50 (train): 100%|██████████| 41/41 [00:25<00:00,  1.59it/s]\n",
      "epoch 23/50 (valid): 100%|██████████| 11/11 [00:02<00:00,  4.87it/s]\n"
     ]
    },
    {
     "name": "stdout",
     "output_type": "stream",
     "text": [
      "Epoch [23/50], Train Loss: 0.0126, Val Loss: 0.0073\n",
      "model save.\n"
     ]
    },
    {
     "name": "stderr",
     "output_type": "stream",
     "text": [
      "epoch 24/50 (train): 100%|██████████| 41/41 [00:25<00:00,  1.61it/s]\n",
      "epoch 24/50 (valid): 100%|██████████| 11/11 [00:02<00:00,  4.74it/s]\n"
     ]
    },
    {
     "name": "stdout",
     "output_type": "stream",
     "text": [
      "Epoch [24/50], Train Loss: 0.0106, Val Loss: 0.0068\n",
      "model save.\n"
     ]
    },
    {
     "name": "stderr",
     "output_type": "stream",
     "text": [
      "epoch 25/50 (train): 100%|██████████| 41/41 [00:25<00:00,  1.62it/s]\n",
      "epoch 25/50 (valid): 100%|██████████| 11/11 [00:02<00:00,  4.92it/s]\n"
     ]
    },
    {
     "name": "stdout",
     "output_type": "stream",
     "text": [
      "Epoch [25/50], Train Loss: 0.0091, Val Loss: 0.0052\n",
      "model save.\n"
     ]
    },
    {
     "name": "stderr",
     "output_type": "stream",
     "text": [
      "epoch 26/50 (train): 100%|██████████| 41/41 [00:26<00:00,  1.57it/s]\n",
      "epoch 26/50 (valid): 100%|██████████| 11/11 [00:02<00:00,  4.81it/s]\n"
     ]
    },
    {
     "name": "stdout",
     "output_type": "stream",
     "text": [
      "Epoch [26/50], Train Loss: 0.0079, Val Loss: 0.0047\n",
      "model save.\n"
     ]
    },
    {
     "name": "stderr",
     "output_type": "stream",
     "text": [
      "epoch 27/50 (train): 100%|██████████| 41/41 [00:25<00:00,  1.60it/s]\n",
      "epoch 27/50 (valid): 100%|██████████| 11/11 [00:02<00:00,  4.87it/s]\n"
     ]
    },
    {
     "name": "stdout",
     "output_type": "stream",
     "text": [
      "Epoch [27/50], Train Loss: 0.0090, Val Loss: 0.0044\n",
      "model save.\n"
     ]
    },
    {
     "name": "stderr",
     "output_type": "stream",
     "text": [
      "epoch 28/50 (train): 100%|██████████| 41/41 [00:25<00:00,  1.59it/s]\n",
      "epoch 28/50 (valid): 100%|██████████| 11/11 [00:02<00:00,  4.85it/s]\n"
     ]
    },
    {
     "name": "stdout",
     "output_type": "stream",
     "text": [
      "Epoch [28/50], Train Loss: 0.0075, Val Loss: 0.0048\n"
     ]
    },
    {
     "name": "stderr",
     "output_type": "stream",
     "text": [
      "epoch 29/50 (train): 100%|██████████| 41/41 [00:25<00:00,  1.60it/s]\n",
      "epoch 29/50 (valid): 100%|██████████| 11/11 [00:02<00:00,  4.71it/s]\n"
     ]
    },
    {
     "name": "stdout",
     "output_type": "stream",
     "text": [
      "Epoch [29/50], Train Loss: 0.0098, Val Loss: 0.0049\n"
     ]
    },
    {
     "name": "stderr",
     "output_type": "stream",
     "text": [
      "epoch 30/50 (train): 100%|██████████| 41/41 [00:26<00:00,  1.58it/s]\n",
      "epoch 30/50 (valid): 100%|██████████| 11/11 [00:02<00:00,  4.65it/s]\n"
     ]
    },
    {
     "name": "stdout",
     "output_type": "stream",
     "text": [
      "Epoch [30/50], Train Loss: 0.0067, Val Loss: 0.0036\n",
      "model save.\n"
     ]
    },
    {
     "name": "stderr",
     "output_type": "stream",
     "text": [
      "epoch 31/50 (train): 100%|██████████| 41/41 [00:25<00:00,  1.58it/s]\n",
      "epoch 31/50 (valid): 100%|██████████| 11/11 [00:02<00:00,  4.65it/s]\n"
     ]
    },
    {
     "name": "stdout",
     "output_type": "stream",
     "text": [
      "Epoch [31/50], Train Loss: 0.0072, Val Loss: 0.0033\n",
      "model save.\n"
     ]
    },
    {
     "name": "stderr",
     "output_type": "stream",
     "text": [
      "epoch 32/50 (train): 100%|██████████| 41/41 [00:26<00:00,  1.56it/s]\n",
      "epoch 32/50 (valid): 100%|██████████| 11/11 [00:02<00:00,  4.49it/s]\n"
     ]
    },
    {
     "name": "stdout",
     "output_type": "stream",
     "text": [
      "Epoch [32/50], Train Loss: 0.0063, Val Loss: 0.0030\n",
      "model save.\n"
     ]
    },
    {
     "name": "stderr",
     "output_type": "stream",
     "text": [
      "epoch 33/50 (train): 100%|██████████| 41/41 [00:26<00:00,  1.57it/s]\n",
      "epoch 33/50 (valid): 100%|██████████| 11/11 [00:02<00:00,  4.43it/s]\n"
     ]
    },
    {
     "name": "stdout",
     "output_type": "stream",
     "text": [
      "Epoch [33/50], Train Loss: 0.0067, Val Loss: 0.0030\n",
      "model save.\n"
     ]
    },
    {
     "name": "stderr",
     "output_type": "stream",
     "text": [
      "epoch 34/50 (train): 100%|██████████| 41/41 [00:26<00:00,  1.54it/s]\n",
      "epoch 34/50 (valid): 100%|██████████| 11/11 [00:02<00:00,  4.48it/s]\n"
     ]
    },
    {
     "name": "stdout",
     "output_type": "stream",
     "text": [
      "Epoch [34/50], Train Loss: 0.0062, Val Loss: 0.0028\n",
      "model save.\n"
     ]
    },
    {
     "name": "stderr",
     "output_type": "stream",
     "text": [
      "epoch 35/50 (train): 100%|██████████| 41/41 [00:26<00:00,  1.54it/s]\n",
      "epoch 35/50 (valid): 100%|██████████| 11/11 [00:02<00:00,  4.30it/s]\n"
     ]
    },
    {
     "name": "stdout",
     "output_type": "stream",
     "text": [
      "Epoch [35/50], Train Loss: 0.0069, Val Loss: 0.0026\n",
      "model save.\n"
     ]
    },
    {
     "name": "stderr",
     "output_type": "stream",
     "text": [
      "epoch 36/50 (train): 100%|██████████| 41/41 [00:26<00:00,  1.53it/s]\n",
      "epoch 36/50 (valid): 100%|██████████| 11/11 [00:02<00:00,  4.14it/s]\n"
     ]
    },
    {
     "name": "stdout",
     "output_type": "stream",
     "text": [
      "Epoch [36/50], Train Loss: 0.0057, Val Loss: 0.0026\n",
      "model save.\n"
     ]
    },
    {
     "name": "stderr",
     "output_type": "stream",
     "text": [
      "epoch 37/50 (train): 100%|██████████| 41/41 [00:27<00:00,  1.51it/s]\n",
      "epoch 37/50 (valid): 100%|██████████| 11/11 [00:02<00:00,  4.04it/s]\n"
     ]
    },
    {
     "name": "stdout",
     "output_type": "stream",
     "text": [
      "Epoch [37/50], Train Loss: 0.0053, Val Loss: 0.0026\n"
     ]
    },
    {
     "name": "stderr",
     "output_type": "stream",
     "text": [
      "epoch 38/50 (train): 100%|██████████| 41/41 [00:27<00:00,  1.52it/s]\n",
      "epoch 38/50 (valid): 100%|██████████| 11/11 [00:02<00:00,  4.06it/s]\n"
     ]
    },
    {
     "name": "stdout",
     "output_type": "stream",
     "text": [
      "Epoch [38/50], Train Loss: 0.0047, Val Loss: 0.0023\n",
      "model save.\n"
     ]
    },
    {
     "name": "stderr",
     "output_type": "stream",
     "text": [
      "epoch 39/50 (train): 100%|██████████| 41/41 [00:26<00:00,  1.54it/s]\n",
      "epoch 39/50 (valid): 100%|██████████| 11/11 [00:02<00:00,  4.06it/s]\n"
     ]
    },
    {
     "name": "stdout",
     "output_type": "stream",
     "text": [
      "Epoch [39/50], Train Loss: 0.0062, Val Loss: 0.0026\n"
     ]
    },
    {
     "name": "stderr",
     "output_type": "stream",
     "text": [
      "epoch 40/50 (train): 100%|██████████| 41/41 [00:26<00:00,  1.53it/s]\n",
      "epoch 40/50 (valid): 100%|██████████| 11/11 [00:02<00:00,  3.92it/s]\n"
     ]
    },
    {
     "name": "stdout",
     "output_type": "stream",
     "text": [
      "Epoch [40/50], Train Loss: 0.0057, Val Loss: 0.0022\n",
      "model save.\n"
     ]
    },
    {
     "name": "stderr",
     "output_type": "stream",
     "text": [
      "epoch 41/50 (train): 100%|██████████| 41/41 [00:27<00:00,  1.50it/s]\n",
      "epoch 41/50 (valid): 100%|██████████| 11/11 [00:02<00:00,  3.81it/s]\n"
     ]
    },
    {
     "name": "stdout",
     "output_type": "stream",
     "text": [
      "Epoch [41/50], Train Loss: 0.0061, Val Loss: 0.0023\n"
     ]
    },
    {
     "name": "stderr",
     "output_type": "stream",
     "text": [
      "epoch 42/50 (train): 100%|██████████| 41/41 [00:26<00:00,  1.53it/s]\n",
      "epoch 42/50 (valid): 100%|██████████| 11/11 [00:02<00:00,  3.98it/s]\n"
     ]
    },
    {
     "name": "stdout",
     "output_type": "stream",
     "text": [
      "Epoch [42/50], Train Loss: 0.0048, Val Loss: 0.0023\n"
     ]
    },
    {
     "name": "stderr",
     "output_type": "stream",
     "text": [
      "epoch 43/50 (train): 100%|██████████| 41/41 [00:27<00:00,  1.51it/s]\n",
      "epoch 43/50 (valid): 100%|██████████| 11/11 [00:02<00:00,  3.95it/s]\n"
     ]
    },
    {
     "name": "stdout",
     "output_type": "stream",
     "text": [
      "Epoch [43/50], Train Loss: 0.0058, Val Loss: 0.0023\n"
     ]
    },
    {
     "name": "stderr",
     "output_type": "stream",
     "text": [
      "epoch 44/50 (train): 100%|██████████| 41/41 [00:26<00:00,  1.54it/s]\n",
      "epoch 44/50 (valid): 100%|██████████| 11/11 [00:02<00:00,  4.09it/s]\n"
     ]
    },
    {
     "name": "stdout",
     "output_type": "stream",
     "text": [
      "Epoch [44/50], Train Loss: 0.0051, Val Loss: 0.0021\n",
      "model save.\n"
     ]
    },
    {
     "name": "stderr",
     "output_type": "stream",
     "text": [
      "epoch 45/50 (train): 100%|██████████| 41/41 [00:26<00:00,  1.53it/s]\n",
      "epoch 45/50 (valid): 100%|██████████| 11/11 [00:02<00:00,  3.93it/s]\n"
     ]
    },
    {
     "name": "stdout",
     "output_type": "stream",
     "text": [
      "Epoch [45/50], Train Loss: 0.0049, Val Loss: 0.0021\n",
      "model save.\n"
     ]
    },
    {
     "name": "stderr",
     "output_type": "stream",
     "text": [
      "epoch 46/50 (train): 100%|██████████| 41/41 [00:26<00:00,  1.52it/s]\n",
      "epoch 46/50 (valid): 100%|██████████| 11/11 [00:02<00:00,  3.90it/s]\n"
     ]
    },
    {
     "name": "stdout",
     "output_type": "stream",
     "text": [
      "Epoch [46/50], Train Loss: 0.0058, Val Loss: 0.0021\n"
     ]
    },
    {
     "name": "stderr",
     "output_type": "stream",
     "text": [
      "epoch 47/50 (train): 100%|██████████| 41/41 [00:26<00:00,  1.52it/s]\n",
      "epoch 47/50 (valid): 100%|██████████| 11/11 [00:02<00:00,  4.53it/s]\n"
     ]
    },
    {
     "name": "stdout",
     "output_type": "stream",
     "text": [
      "Epoch [47/50], Train Loss: 0.0055, Val Loss: 0.0019\n",
      "model save.\n"
     ]
    },
    {
     "name": "stderr",
     "output_type": "stream",
     "text": [
      "epoch 48/50 (train): 100%|██████████| 41/41 [00:26<00:00,  1.53it/s]\n",
      "epoch 48/50 (valid): 100%|██████████| 11/11 [00:02<00:00,  4.93it/s]\n"
     ]
    },
    {
     "name": "stdout",
     "output_type": "stream",
     "text": [
      "Epoch [48/50], Train Loss: 0.0049, Val Loss: 0.0021\n"
     ]
    },
    {
     "name": "stderr",
     "output_type": "stream",
     "text": [
      "epoch 49/50 (train): 100%|██████████| 41/41 [00:25<00:00,  1.60it/s]\n",
      "epoch 49/50 (valid): 100%|██████████| 11/11 [00:02<00:00,  4.93it/s]\n"
     ]
    },
    {
     "name": "stdout",
     "output_type": "stream",
     "text": [
      "Epoch [49/50], Train Loss: 0.0072, Val Loss: 0.0023\n"
     ]
    },
    {
     "name": "stderr",
     "output_type": "stream",
     "text": [
      "epoch 50/50 (train): 100%|██████████| 41/41 [00:25<00:00,  1.60it/s]\n",
      "epoch 50/50 (valid): 100%|██████████| 11/11 [00:02<00:00,  4.94it/s]"
     ]
    },
    {
     "name": "stdout",
     "output_type": "stream",
     "text": [
      "Epoch [50/50], Train Loss: 0.0045, Val Loss: 0.0023\n"
     ]
    },
    {
     "name": "stderr",
     "output_type": "stream",
     "text": [
      "\n"
     ]
    }
   ],
   "source": [
    "train_loss1 = []\n",
    "val_loss1 = []\n",
    "# acc1 = []\n",
    "num_epochs = 50\n",
    "best_val_loss = float('inf')  # 초기값을 무한대로 설정\n",
    "\n",
    "for epoch in range(num_epochs):\n",
    "    # 훈련 루프\n",
    "    encoder.train()\n",
    "    decoder.train()\n",
    "    train_loss = 0.0\n",
    "    for data in tqdm(train_loader, desc=f'epoch {epoch + 1}/{num_epochs} (train)'):\n",
    "        images, _ = data\n",
    "        images = images.to(device)\n",
    "\n",
    "       \n",
    "        encoded = encoder(images)\n",
    "        decoded = decoder(encoded)\n",
    "\n",
    "        # 손실 계산\n",
    "        loss = loss_func(decoded, images)\n",
    "\n",
    "        # 역방향 전파 및 최적화\n",
    "        optimizer.zero_grad()\n",
    "        loss.backward()\n",
    "        optimizer.step()\n",
    "\n",
    "        train_loss += loss.item()\n",
    "\n",
    "    # 검증 루프\n",
    "    encoder.eval()\n",
    "    decoder.eval()\n",
    "    val_loss = 0.0\n",
    "    with torch.no_grad():\n",
    "        for data in tqdm(valid_loader, desc=f'epoch {epoch + 1}/{num_epochs} (valid)'):\n",
    "            images, _ = data\n",
    "            images = images.to(device)\n",
    "\n",
    "            \n",
    "            encoded = encoder(images)\n",
    "            decoded = decoder(encoded)\n",
    "\n",
    "            # 손실 계산\n",
    "            val_loss += loss_func(decoded, images).item()\n",
    "\n",
    "    # 평균 손실 계산\n",
    "    train_loss /= len(train_loader)\n",
    "    train_loss1.append(train_loss)\n",
    "    val_loss /= len(valid_loader)\n",
    "    val_loss1.append(val_loss) \n",
    "    # 각 에폭 이후 손실 출력\n",
    "    print(f'Epoch [{epoch + 1}/{num_epochs}], Train Loss: {train_loss:.4f}, Val Loss: {val_loss:.4f}')\n",
    "\n",
    "    # 현재 검증 손실이 이전 최고 손실보다 낮으면 모델 저장\n",
    "    if val_loss < best_val_loss:\n",
    "        best_val_loss = val_loss\n",
    "        torch.save({\n",
    "            'encoder_state_dict': encoder.state_dict(),\n",
    "            'decoder_state_dict': decoder.state_dict(),\n",
    "            'optimizer_state_dict': optimizer.state_dict(),\n",
    "            'loss': val_loss\n",
    "        }, 'best_model.pth')\n",
    "        print('model save.')"
   ]
  },
  {
   "cell_type": "code",
   "execution_count": 29,
   "id": "199a1271-c9ac-4fce-9856-b13f7ff399c3",
   "metadata": {
    "tags": []
   },
   "outputs": [],
   "source": [
    "model_path = 'best_model.pth'\n",
    "\n",
    "# 저장된 모델 불러오기\n",
    "checkpoint = torch.load(model_path)\n",
    "encoder.load_state_dict(checkpoint['encoder_state_dict'])\n",
    "decoder.load_state_dict(checkpoint['decoder_state_dict'])\n",
    "optimizer.load_state_dict(checkpoint['optimizer_state_dict'])\n",
    "best_val_loss = checkpoint['loss']"
   ]
  },
  {
   "cell_type": "code",
   "execution_count": 31,
   "id": "085418bb-ddd3-4a7b-9054-6f461efb11ca",
   "metadata": {
    "tags": []
   },
   "outputs": [
    {
     "name": "stderr",
     "output_type": "stream",
     "text": [
      "epoch 1/50 (train):   0%|          | 0/41 [00:00<?, ?it/s]"
     ]
    },
    {
     "name": "stdout",
     "output_type": "stream",
     "text": [
      "torch.Size([4, 3, 256, 256]) torch.Size([4, 3, 256, 256])\n"
     ]
    },
    {
     "name": "stderr",
     "output_type": "stream",
     "text": [
      "epoch 1/50 (train):   2%|▏         | 1/41 [00:00<00:27,  1.46it/s]"
     ]
    },
    {
     "name": "stdout",
     "output_type": "stream",
     "text": [
      "torch.Size([4, 3, 256, 256]) torch.Size([4, 3, 256, 256])\n"
     ]
    },
    {
     "name": "stderr",
     "output_type": "stream",
     "text": [
      "epoch 1/50 (train):   5%|▍         | 2/41 [00:01<00:26,  1.50it/s]"
     ]
    },
    {
     "name": "stdout",
     "output_type": "stream",
     "text": [
      "torch.Size([4, 3, 256, 256]) torch.Size([4, 3, 256, 256])\n"
     ]
    },
    {
     "name": "stderr",
     "output_type": "stream",
     "text": [
      "epoch 1/50 (train):   7%|▋         | 3/41 [00:02<00:26,  1.46it/s]\n"
     ]
    },
    {
     "ename": "KeyboardInterrupt",
     "evalue": "",
     "output_type": "error",
     "traceback": [
      "\u001b[1;31m---------------------------------------------------------------------------\u001b[0m",
      "\u001b[1;31mKeyboardInterrupt\u001b[0m                         Traceback (most recent call last)",
      "Cell \u001b[1;32mIn[31], line 14\u001b[0m\n\u001b[0;32m     11\u001b[0m images \u001b[38;5;241m=\u001b[39m images\u001b[38;5;241m.\u001b[39mto(device)\n\u001b[0;32m     13\u001b[0m \u001b[38;5;66;03m# 순방향 전파\u001b[39;00m\n\u001b[1;32m---> 14\u001b[0m encoded \u001b[38;5;241m=\u001b[39m \u001b[43mencoder\u001b[49m\u001b[43m(\u001b[49m\u001b[43mimages\u001b[49m\u001b[43m)\u001b[49m\n\u001b[0;32m     15\u001b[0m decoded \u001b[38;5;241m=\u001b[39m decoder(encoded)\n\u001b[0;32m     16\u001b[0m \u001b[38;5;28mprint\u001b[39m(decoded\u001b[38;5;241m.\u001b[39mshape,images\u001b[38;5;241m.\u001b[39mshape)\n",
      "File \u001b[1;32m~\\anaconda3\\envs\\proj\\lib\\site-packages\\torch\\nn\\modules\\module.py:1501\u001b[0m, in \u001b[0;36mModule._call_impl\u001b[1;34m(self, *args, **kwargs)\u001b[0m\n\u001b[0;32m   1496\u001b[0m \u001b[38;5;66;03m# If we don't have any hooks, we want to skip the rest of the logic in\u001b[39;00m\n\u001b[0;32m   1497\u001b[0m \u001b[38;5;66;03m# this function, and just call forward.\u001b[39;00m\n\u001b[0;32m   1498\u001b[0m \u001b[38;5;28;01mif\u001b[39;00m \u001b[38;5;129;01mnot\u001b[39;00m (\u001b[38;5;28mself\u001b[39m\u001b[38;5;241m.\u001b[39m_backward_hooks \u001b[38;5;129;01mor\u001b[39;00m \u001b[38;5;28mself\u001b[39m\u001b[38;5;241m.\u001b[39m_backward_pre_hooks \u001b[38;5;129;01mor\u001b[39;00m \u001b[38;5;28mself\u001b[39m\u001b[38;5;241m.\u001b[39m_forward_hooks \u001b[38;5;129;01mor\u001b[39;00m \u001b[38;5;28mself\u001b[39m\u001b[38;5;241m.\u001b[39m_forward_pre_hooks\n\u001b[0;32m   1499\u001b[0m         \u001b[38;5;129;01mor\u001b[39;00m _global_backward_pre_hooks \u001b[38;5;129;01mor\u001b[39;00m _global_backward_hooks\n\u001b[0;32m   1500\u001b[0m         \u001b[38;5;129;01mor\u001b[39;00m _global_forward_hooks \u001b[38;5;129;01mor\u001b[39;00m _global_forward_pre_hooks):\n\u001b[1;32m-> 1501\u001b[0m     \u001b[38;5;28;01mreturn\u001b[39;00m \u001b[43mforward_call\u001b[49m\u001b[43m(\u001b[49m\u001b[38;5;241;43m*\u001b[39;49m\u001b[43margs\u001b[49m\u001b[43m,\u001b[49m\u001b[43m \u001b[49m\u001b[38;5;241;43m*\u001b[39;49m\u001b[38;5;241;43m*\u001b[39;49m\u001b[43mkwargs\u001b[49m\u001b[43m)\u001b[49m\n\u001b[0;32m   1502\u001b[0m \u001b[38;5;66;03m# Do not call functions when jit is used\u001b[39;00m\n\u001b[0;32m   1503\u001b[0m full_backward_hooks, non_full_backward_hooks \u001b[38;5;241m=\u001b[39m [], []\n",
      "Cell \u001b[1;32mIn[20], line 26\u001b[0m, in \u001b[0;36mEncoder.forward\u001b[1;34m(self, x)\u001b[0m\n\u001b[0;32m     25\u001b[0m \u001b[38;5;28;01mdef\u001b[39;00m \u001b[38;5;21mforward\u001b[39m(\u001b[38;5;28mself\u001b[39m, x):\n\u001b[1;32m---> 26\u001b[0m     out \u001b[38;5;241m=\u001b[39m \u001b[38;5;28;43mself\u001b[39;49m\u001b[38;5;241;43m.\u001b[39;49m\u001b[43mlayer1\u001b[49m\u001b[43m(\u001b[49m\u001b[43mx\u001b[49m\u001b[43m)\u001b[49m\n\u001b[0;32m     27\u001b[0m     out \u001b[38;5;241m=\u001b[39m \u001b[38;5;28mself\u001b[39m\u001b[38;5;241m.\u001b[39mlayer2(out)\n\u001b[0;32m     28\u001b[0m     out \u001b[38;5;241m=\u001b[39m out\u001b[38;5;241m.\u001b[39mview(out\u001b[38;5;241m.\u001b[39msize(\u001b[38;5;241m0\u001b[39m), \u001b[38;5;241m-\u001b[39m\u001b[38;5;241m1\u001b[39m)  \u001b[38;5;66;03m# Adjust the size for the fully connected layer\u001b[39;00m\n",
      "File \u001b[1;32m~\\anaconda3\\envs\\proj\\lib\\site-packages\\torch\\nn\\modules\\module.py:1501\u001b[0m, in \u001b[0;36mModule._call_impl\u001b[1;34m(self, *args, **kwargs)\u001b[0m\n\u001b[0;32m   1496\u001b[0m \u001b[38;5;66;03m# If we don't have any hooks, we want to skip the rest of the logic in\u001b[39;00m\n\u001b[0;32m   1497\u001b[0m \u001b[38;5;66;03m# this function, and just call forward.\u001b[39;00m\n\u001b[0;32m   1498\u001b[0m \u001b[38;5;28;01mif\u001b[39;00m \u001b[38;5;129;01mnot\u001b[39;00m (\u001b[38;5;28mself\u001b[39m\u001b[38;5;241m.\u001b[39m_backward_hooks \u001b[38;5;129;01mor\u001b[39;00m \u001b[38;5;28mself\u001b[39m\u001b[38;5;241m.\u001b[39m_backward_pre_hooks \u001b[38;5;129;01mor\u001b[39;00m \u001b[38;5;28mself\u001b[39m\u001b[38;5;241m.\u001b[39m_forward_hooks \u001b[38;5;129;01mor\u001b[39;00m \u001b[38;5;28mself\u001b[39m\u001b[38;5;241m.\u001b[39m_forward_pre_hooks\n\u001b[0;32m   1499\u001b[0m         \u001b[38;5;129;01mor\u001b[39;00m _global_backward_pre_hooks \u001b[38;5;129;01mor\u001b[39;00m _global_backward_hooks\n\u001b[0;32m   1500\u001b[0m         \u001b[38;5;129;01mor\u001b[39;00m _global_forward_hooks \u001b[38;5;129;01mor\u001b[39;00m _global_forward_pre_hooks):\n\u001b[1;32m-> 1501\u001b[0m     \u001b[38;5;28;01mreturn\u001b[39;00m \u001b[43mforward_call\u001b[49m\u001b[43m(\u001b[49m\u001b[38;5;241;43m*\u001b[39;49m\u001b[43margs\u001b[49m\u001b[43m,\u001b[49m\u001b[43m \u001b[49m\u001b[38;5;241;43m*\u001b[39;49m\u001b[38;5;241;43m*\u001b[39;49m\u001b[43mkwargs\u001b[49m\u001b[43m)\u001b[49m\n\u001b[0;32m   1502\u001b[0m \u001b[38;5;66;03m# Do not call functions when jit is used\u001b[39;00m\n\u001b[0;32m   1503\u001b[0m full_backward_hooks, non_full_backward_hooks \u001b[38;5;241m=\u001b[39m [], []\n",
      "File \u001b[1;32m~\\anaconda3\\envs\\proj\\lib\\site-packages\\torch\\nn\\modules\\container.py:217\u001b[0m, in \u001b[0;36mSequential.forward\u001b[1;34m(self, input)\u001b[0m\n\u001b[0;32m    215\u001b[0m \u001b[38;5;28;01mdef\u001b[39;00m \u001b[38;5;21mforward\u001b[39m(\u001b[38;5;28mself\u001b[39m, \u001b[38;5;28minput\u001b[39m):\n\u001b[0;32m    216\u001b[0m     \u001b[38;5;28;01mfor\u001b[39;00m module \u001b[38;5;129;01min\u001b[39;00m \u001b[38;5;28mself\u001b[39m:\n\u001b[1;32m--> 217\u001b[0m         \u001b[38;5;28minput\u001b[39m \u001b[38;5;241m=\u001b[39m module(\u001b[38;5;28minput\u001b[39m)\n\u001b[0;32m    218\u001b[0m     \u001b[38;5;28;01mreturn\u001b[39;00m \u001b[38;5;28minput\u001b[39m\n",
      "\u001b[1;31mKeyboardInterrupt\u001b[0m: "
     ]
    }
   ],
   "source": [
    "additional_epochs = 1\n",
    "\n",
    "# 이어서 훈련 루프\n",
    "for epoch in range(additional_epochs):\n",
    "    # 훈련 루프\n",
    "    encoder.train()\n",
    "    decoder.train()\n",
    "    train_loss = 0.0\n",
    "    for data in tqdm(train_loader, desc=f'epoch {epoch + 1}/{num_epochs} (train)'):\n",
    "        images, _ = data\n",
    "        images = images.to(device)\n",
    "        \n",
    "        # 순방향 전파\n",
    "        encoded = encoder(images)\n",
    "        decoded = decoder(encoded)\n",
    "        print(decoded.shape,images.shape)\n",
    "        # 손실 계산\n",
    "        loss = loss_func(decoded, images)\n",
    "\n",
    "        # 역방향 전파 및 최적화\n",
    "        optimizer.zero_grad()\n",
    "        loss.backward()\n",
    "        optimizer.step()\n",
    "\n",
    "        train_loss += loss.item()\n",
    "\n",
    "    # 검증 루프\n",
    "    encoder.eval()\n",
    "    decoder.eval()\n",
    "    val_loss = 0.0\n",
    "    with torch.no_grad():\n",
    "        for data in tqdm(valid_loader, desc=f'epoch {epoch + 1}/{num_epochs} (valid)'):\n",
    "            images, _ = data\n",
    "            images = images.to(device)\n",
    "\n",
    "            # 순방향 전파\n",
    "            encoded = encoder(images)\n",
    "            decoded = decoder(encoded)\n",
    "\n",
    "            # 손실 계산\n",
    "            val_loss += loss_func(decoded, images).item()\n",
    "\n",
    "    # 평균 손실 계산\n",
    "    train_loss /= len(train_loader)\n",
    "    val_loss /= len(valid_loader)\n",
    "\n",
    "    # 각 에폭 이후 손실 출력\n",
    "    print(f'Epoch [{epoch + 1}/{num_epochs}], Train Loss: {train_loss:.4f}, Val Loss: {val_loss:.4f}')"
   ]
  },
  {
   "cell_type": "code",
   "execution_count": 23,
   "id": "ieC6VeG3R6ql",
   "metadata": {
    "id": "ieC6VeG3R6ql"
   },
   "outputs": [],
   "source": [
    "# hist_hype"
   ]
  },
  {
   "cell_type": "code",
   "execution_count": 24,
   "id": "HqOKzCn6L4ga",
   "metadata": {
    "colab": {
     "base_uri": "https://localhost:8080/",
     "height": 472
    },
    "id": "HqOKzCn6L4ga",
    "outputId": "7f2837cb-9075-45a5-cd31-c413c8218238"
   },
   "outputs": [
    {
     "data": {
      "image/png": "[encoded data removed]",
      "text/plain": [
       "<Figure size 640x480 with 1 Axes>"
      ]
     },
     "metadata": {},
     "output_type": "display_data"
    }
   ],
   "source": [
    "import matplotlib.pyplot as plt\n",
    "\n",
    "\n",
    "# plt.plot(hist_hype.history['train_loss'])\n",
    "# plt.plot(hist_hype.history['val_loss'])\n",
    "# plt.title('Accuracy graph')\n",
    "# plt.xlabel('epochs')\n",
    "# plt.ylabel('accuracy')\n",
    "# plt.legend(['train','test'])\n",
    "# plt.grid()\n",
    "# plt.show()\n",
    "\n",
    "plt.plot(val_loss1, label='Validation Loss')\n",
    "plt.plot(train_loss1, label='Training Loss')\n",
    "plt.title('loss Graph')\n",
    "plt.xlabel('Epochs')\n",
    "plt.ylabel('Value')\n",
    "plt.legend()\n",
    "plt.grid(True)\n",
    "plt.show()"
   ]
  },
  {
   "cell_type": "code",
   "execution_count": 25,
   "id": "6FRmVblwSwny",
   "metadata": {
    "colab": {
     "base_uri": "https://localhost:8080/",
     "height": 472
    },
    "id": "6FRmVblwSwny",
    "outputId": "4ea62fa6-0405-43c2-8635-7c0b0fefea00"
   },
   "outputs": [],
   "source": [
    "import torch\n",
    "from torchvision.utils import save_image\n",
    "\n",
    "# 학습된 모델 로드\n",
    "checkpoint = torch.load('best_model.pth')\n",
    "encoder.load_state_dict(checkpoint['encoder_state_dict'])\n",
    "decoder.load_state_dict(checkpoint['decoder_state_dict'])\n",
    "\n",
    "# 디코더를 평가 모드로 설정\n",
    "encoder.eval()\n",
    "decoder.eval()\n",
    "\n",
    "# 이미지 데이터를 DataLoader에서 가져오기 (예시로 첫 번째 배치 사용)\n",
    "data = next(iter(valid_loader))\n",
    "images, _ = data\n",
    "images = images.to(device)\n",
    "\n",
    "# 이미지를 인코더에 통과시켜 잠재 벡터 얻기\n",
    "with torch.no_grad():\n",
    "    encoded = encoder(images)\n",
    "\n",
    "# 잠재 벡터를 디코더에 전달하여 이미지 생성\n",
    "with torch.no_grad():\n",
    "    generated_images = decoder(encoded)\n",
    "\n",
    "# 생성된 이미지를 파일로 저장 또는 화면에 표시\n",
    "save_image(generated_images, 'generated_images.png')"
   ]
  },
  {
   "cell_type": "code",
   "execution_count": 27,
   "id": "fe0759cd-fca6-43ac-a9be-65a98eb0c752",
   "metadata": {
    "tags": []
   },
   "outputs": [],
   "source": [
    "import torch\n",
    "from torchvision.utils import save_image\n",
    "from torchvision import transforms\n",
    "from PIL import Image\n",
    "\n",
    "# 학습된 모델 로드\n",
    "checkpoint = torch.load('best_model.pth')\n",
    "encoder.load_state_dict(checkpoint['encoder_state_dict'])\n",
    "decoder.load_state_dict(checkpoint['decoder_state_dict'])\n",
    "\n",
    "# 디코더를 평가 모드로 설정\n",
    "encoder.eval()\n",
    "decoder.eval()\n",
    "\n",
    "# 원하는 이미지 불러오기\n",
    "image_path = '001_0027.jpg'  # 원하는 이미지 파일의 경로\n",
    "desired_image = Image.open(image_path).convert('RGB')\n",
    "\n",
    "# 이미지를 모델이 예상하는 크기로 변환\n",
    "transform = transforms.Compose([\n",
    "    transforms.Resize((256, 256)),\n",
    "    transforms.ToTensor(),\n",
    "])\n",
    "desired_image = transform(desired_image).unsqueeze(0).to(device)\n",
    "\n",
    "# 이미지를 인코더에 통과시켜 잠재 벡터 얻기\n",
    "with torch.no_grad():\n",
    "    encoded = encoder(desired_image)\n",
    "\n",
    "# 잠재 벡터를 디코더에 전달하여 이미지 생성\n",
    "with torch.no_grad():\n",
    "    generated_image = decoder(encoded)\n",
    "\n",
    "# 생성된 이미지를 파일로 저장 또는 화면에 표시\n",
    "save_image(generated_image, 'image1.png')\n"
   ]
  },
  {
   "cell_type": "code",
   "execution_count": 28,
   "id": "22cae050-3e37-48c1-b8d1-7278ebd55188",
   "metadata": {
    "tags": []
   },
   "outputs": [
    {
     "name": "stderr",
     "output_type": "stream",
     "text": [
      "Clipping input data to the valid range for imshow with RGB data ([0..1] for floats or [0..255] for integers).\n"
     ]
    },
    {
     "data": {
      "image/png": "[encoded data removed]",
      "text/plain": [
       "<Figure size 640x480 with 1 Axes>"
      ]
     },
     "metadata": {},
     "output_type": "display_data"
    }
   ],
   "source": [
    "import torch\n",
    "from torchvision.utils import save_image\n",
    "from torchvision import transforms\n",
    "from PIL import Image\n",
    "\n",
    "# 학습된 모델 로드\n",
    "checkpoint = torch.load('best_model.pth')\n",
    "encoder.load_state_dict(checkpoint['encoder_state_dict'])\n",
    "decoder.load_state_dict(checkpoint['decoder_state_dict'])\n",
    "\n",
    "# 디코더를 평가 모드로 설정\n",
    "encoder.eval()\n",
    "decoder.eval()\n",
    "\n",
    "# 원하는 이미지 불러오기\n",
    "image_path = '001_0002.jpg'  # 원하는 이미지 파일의 경로\n",
    "desired_image = Image.open(image_path).convert('RGB')\n",
    "\n",
    "# 이미지를 모델이 예상하는 크기로 변환\n",
    "transform = transforms.Compose([\n",
    "    transforms.Resize((256, 256)),\n",
    "    transforms.ToTensor(),\n",
    "])\n",
    "desired_image = transform(desired_image).unsqueeze(0).to(device)\n",
    "\n",
    "# 이미지를 인코더에 통과시켜 잠재 벡터 얻기\n",
    "with torch.no_grad():\n",
    "    encoded = encoder(desired_image)\n",
    "\n",
    "# 잠재 벡터를 디코더에 전달하여 이미지 생성\n",
    "with torch.no_grad():\n",
    "    generated_image = decoder(encoded)\n",
    "\n",
    "# 생성된 이미지를 파일로 저장 또는 화면에 표시\n",
    "save_image(generated_image, 'image1.png')\n",
    "\n",
    "# 시각화된 이미지를 텐서에서 넘파이 배열로 변환\n",
    "generated_image_np = generated_image.squeeze().permute(1, 2, 0).cpu().numpy()\n",
    "\n",
    "# 이미지를 표시\n",
    "plt.imshow(generated_image_np)\n",
    "plt.axis('off')\n",
    "plt.show()\n"
   ]
  },
  {
   "cell_type": "markdown",
   "id": "CQT_4IlN7uMS",
   "metadata": {
    "id": "CQT_4IlN7uMS"
   },
   "source": [
    "# 실습 과제\n",
    "\n",
    "위 실습을 응용하여 **본인만의 데이터셋**을 구성하고 학습이 진행됨을 보이시오.\n",
    "\n",
    "과제에 포함할 내용:\n",
    "\n",
    " - 총 4개 이상의 클래스를 분류하는 문제(classification)를 해결\n",
    " - 데이터셋에 맞추어 생성한 csv 파일을 다운받아 직접 내용을 검토\n",
    " - 학습이 잘되는지 확인\n"
   ]
  },
  {
   "cell_type": "code",
   "execution_count": null,
   "id": "UKZVsila7t7j",
   "metadata": {
    "id": "UKZVsila7t7j"
   },
   "outputs": [],
   "source": []
  }
 ],
 "metadata": {
  "accelerator": "GPU",
  "colab": {
   "gpuType": "T4",
   "provenance": []
  },
  "kernelspec": {
   "display_name": "Python 3 (ipykernel)",
   "language": "python",
   "name": "python3"
  },
  "language_info": {
   "codemirror_mode": {
    "name": "ipython",
    "version": 3
   },
   "file_extension": ".py",
   "mimetype": "text/x-python",
   "name": "python",
   "nbconvert_exporter": "python",
   "pygments_lexer": "ipython3",
   "version": "3.8.17"
  }
 },
 "nbformat": 4,
 "nbformat_minor": 5
}
